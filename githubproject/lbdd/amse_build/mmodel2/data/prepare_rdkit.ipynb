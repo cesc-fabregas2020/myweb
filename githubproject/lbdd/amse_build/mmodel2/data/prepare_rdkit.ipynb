{
 "cells": [
  {
   "cell_type": "code",
   "execution_count": 1,
   "metadata": {},
   "outputs": [],
   "source": [
    "import pandas as pd\n",
    "import csv\n",
    "from rdkit import Chem"
   ]
  },
  {
   "cell_type": "code",
   "execution_count": 3,
   "metadata": {},
   "outputs": [],
   "source": [
    "data = pd.read_csv('smiles_cas_N6512_new.smi',header=None,sep=' ',usecols=[0,2],names=['Smile','Label'])"
   ]
  },
  {
   "cell_type": "code",
   "execution_count": 9,
   "metadata": {},
   "outputs": [
    {
     "name": "stdout",
     "output_type": "stream",
     "text": [
      "6506\n"
     ]
    }
   ],
   "source": [
    "print(len(data['Smile']))\n",
    "n = 0\n",
    "for smile in data['Smile']:\n",
    "    m = Chem.MolFromSmiles(smile)\n",
    "    if m is None:\n",
    "        print('invalid SMILES')\n",
    "        print(n,smile)\n",
    "    else:\n",
    "        try:\n",
    "            Chem.SanitizeMol(m)\n",
    "        except:\n",
    "            print('invalid chemistry')\n",
    "            print(n,smile)\n",
    "    n = n + 1"
   ]
  },
  {
   "cell_type": "code",
   "execution_count": 6,
   "metadata": {},
   "outputs": [],
   "source": [
    "smile_list = []\n",
    "label_list = []\n",
    "for smile in data['Smile']:\n",
    "    m = Chem.MolFromSmiles(smile)\n",
    "    smile_list.append(Chem.MolToSmiles(m,canonical=False))\n",
    "for label in data['Label']:\n",
    "    label_list.append(label)\n",
    "\n",
    "with open('N6506_1.CSV','w') as f:\n",
    "    writer = csv.writer(f)\n",
    "    writer.writerow(['Smile','Label'])\n",
    "    writer.writerows(zip(smile_list,label_list))"
   ]
  }
 ],
 "metadata": {
  "interpreter": {
   "hash": "f41f6ab40e82907d0fc76d8a6a687a6bdadd2dd2b8424b65388284a12bf51084"
  },
  "kernelspec": {
   "display_name": "Python 3.9.7 64-bit ('chemprop_1119': conda)",
   "language": "python",
   "name": "python3"
  },
  "language_info": {
   "codemirror_mode": {
    "name": "ipython",
    "version": 3
   },
   "file_extension": ".py",
   "mimetype": "text/x-python",
   "name": "python",
   "nbconvert_exporter": "python",
   "pygments_lexer": "ipython3",
   "version": "3.9.7"
  },
  "orig_nbformat": 4
 },
 "nbformat": 4,
 "nbformat_minor": 2
}
