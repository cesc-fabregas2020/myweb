{
 "cells": [
  {
   "cell_type": "code",
   "execution_count": 14,
   "metadata": {},
   "outputs": [],
   "source": [
    "import pandas as pd\n",
    "import csv\n",
    "from rdkit import Chem\n",
    "import numpy as np"
   ]
  },
  {
   "cell_type": "code",
   "execution_count": 15,
   "metadata": {},
   "outputs": [],
   "source": [
    "#data = pd.read_csv('data/alldata.smi',header=None,sep=' ',usecols=[0,2],names=['Smile','Label'])\n",
    "data = pd.read_csv('test/tox_pre.csv')"
   ]
  },
  {
   "cell_type": "code",
   "execution_count": 16,
   "metadata": {},
   "outputs": [
    {
     "name": "stdout",
     "output_type": "stream",
     "text": [
      "10\n"
     ]
    }
   ],
   "source": [
    "print(len(data['Smile']))\n",
    "n = 0\n",
    "for smile in data['Smile']:\n",
    "    m = Chem.MolFromSmiles(smile)\n",
    "    if m is None:\n",
    "        print('invalid SMILES')\n",
    "        print(n,smile)\n",
    "    else:\n",
    "        try:\n",
    "            Chem.SanitizeMol(m)\n",
    "        except:\n",
    "            print('invalid chemistry')\n",
    "            print(n,smile)\n",
    "    n = n + 1"
   ]
  },
  {
   "cell_type": "code",
   "execution_count": 17,
   "metadata": {},
   "outputs": [],
   "source": [
    "smile_list = []\n",
    "#label_list = []\n",
    "for smile in data['Smile']:\n",
    "    m = Chem.MolFromSmiles(smile)\n",
    "    atom_idxs = list(range(m.GetNumAtoms()))\n",
    "    np.random.shuffle(atom_idxs)\n",
    "    m = Chem.RenumberAtoms(m,atom_idxs)\n",
    "    #smile_list.append(Chem.MolToSmiles(m,canonical=False))\n",
    "    smile_list.append(Chem.MolToSmiles(m,canonical=False))\n",
    "#for label in data['Label']:\n",
    "#    label_list.append(label)\n",
    "\n",
    "#label_set = set(label_list)\n",
    "#print(label_set)\n",
    "\n",
    "with open('tox_pre_random_nocanonical.csv','w') as f:\n",
    "    writer = csv.writer(f)\n",
    "    writer.writerow(['Smile'])\n",
    "    writer.writerows(zip(smile_list))"
   ]
  }
 ],
 "metadata": {
  "interpreter": {
   "hash": "f41f6ab40e82907d0fc76d8a6a687a6bdadd2dd2b8424b65388284a12bf51084"
  },
  "kernelspec": {
   "display_name": "Python 3.9.7 64-bit ('chemprop_1119': conda)",
   "language": "python",
   "name": "python3"
  },
  "language_info": {
   "codemirror_mode": {
    "name": "ipython",
    "version": 3
   },
   "file_extension": ".py",
   "mimetype": "text/x-python",
   "name": "python",
   "nbconvert_exporter": "python",
   "pygments_lexer": "ipython3",
   "version": "3.9.7"
  },
  "orig_nbformat": 4
 },
 "nbformat": 4,
 "nbformat_minor": 2
}
