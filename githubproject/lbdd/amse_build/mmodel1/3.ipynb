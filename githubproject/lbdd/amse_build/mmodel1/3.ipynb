{
 "cells": [
  {
   "cell_type": "code",
   "execution_count": 1,
   "metadata": {},
   "outputs": [],
   "source": [
    "import pandas as pd\n",
    "import csv\n",
    "import numpy as np\n",
    "import os\n",
    "from rdkit import Chem, DataStructs\n",
    "from rdkit.Chem import PandasTools, AllChem"
   ]
  },
  {
   "cell_type": "code",
   "execution_count": 2,
   "metadata": {},
   "outputs": [],
   "source": [
    "#data = pd.read_csv('data/alldata.smi',header=None,sep=' ',usecols=[0,2],names=['Smile','Label'])\n",
    "data = pd.read_csv('../mmodel13/interpret/fort.5005')"
   ]
  },
  {
   "cell_type": "code",
   "execution_count": 3,
   "metadata": {},
   "outputs": [
    {
     "data": {
      "text/html": [
       "<div>\n",
       "<style scoped>\n",
       "    .dataframe tbody tr th:only-of-type {\n",
       "        vertical-align: middle;\n",
       "    }\n",
       "\n",
       "    .dataframe tbody tr th {\n",
       "        vertical-align: top;\n",
       "    }\n",
       "\n",
       "    .dataframe thead th {\n",
       "        text-align: right;\n",
       "    }\n",
       "</style>\n",
       "<table border=\"1\" class=\"dataframe\">\n",
       "  <thead>\n",
       "    <tr style=\"text-align: right;\">\n",
       "      <th></th>\n",
       "      <th>smile</th>\n",
       "      <th>score</th>\n",
       "      <th>core_smile</th>\n",
       "      <th>core_score</th>\n",
       "    </tr>\n",
       "  </thead>\n",
       "  <tbody>\n",
       "    <tr>\n",
       "      <th>122</th>\n",
       "      <td>['C1c2c(cc(OC)cc2)[C@]23CCN(C)[C@@H]1[C@@H]2CC...</td>\n",
       "      <td>0.157</td>\n",
       "      <td>NaN</td>\n",
       "      <td>...</td>\n",
       "    </tr>\n",
       "  </tbody>\n",
       "</table>\n",
       "</div>"
      ],
      "text/plain": [
       "                                                 smile  score core_smile  \\\n",
       "122  ['C1c2c(cc(OC)cc2)[C@]23CCN(C)[C@@H]1[C@@H]2CC...  0.157        NaN   \n",
       "\n",
       "                                            core_score  \n",
       "122                                                ...  "
      ]
     },
     "execution_count": 3,
     "metadata": {},
     "output_type": "execute_result"
    }
   ],
   "source": [
    "data_check=data.sort_values('score')\n",
    "data_check.head(1)"
   ]
  },
  {
   "cell_type": "code",
   "execution_count": 4,
   "metadata": {},
   "outputs": [
    {
     "name": "stdout",
     "output_type": "stream",
     "text": [
      "['c1(F)ccc([C@H](N2[C@@H]3Cc4c(cc(O)cc4)[C@@](C)([C@@H]3C)CC2)CC)c(Cl)c1']\n",
      "c1(F)ccc([C@H](N2[C@@H]3Cc4c(cc(O)cc4)[C@@](C)([C@@H]3C)CC2)CC)c(Cl)c1\n"
     ]
    }
   ],
   "source": [
    "print(data_check.loc[0,'smile'])\n",
    "print(data_check.loc[0,'smile'][2:-2])"
   ]
  },
  {
   "cell_type": "code",
   "execution_count": 5,
   "metadata": {},
   "outputs": [],
   "source": [
    "for i in range(0,len(data_check)):\n",
    "    data_check.loc[i,'smile']=data_check.loc[i,'smile'][2:-2]"
   ]
  },
  {
   "cell_type": "code",
   "execution_count": 6,
   "metadata": {},
   "outputs": [
    {
     "name": "stdout",
     "output_type": "stream",
     "text": [
      "['smile', 'score', 'core_smile', 'core_score']\n",
      "['score', 'core_smile', 'core_score']\n",
      "['score', 'core_score']\n",
      "{'smile': dtype('O'), 'score': dtype('float64'), 'core_smile': dtype('O'), 'core_score': dtype('O')}\n"
     ]
    }
   ],
   "source": [
    "frame_test = data_check\n",
    "import xlsxwriter\n",
    "cols = list(frame_test.columns)\n",
    "print(cols)\n",
    "cols.remove('smile')\n",
    "print(cols)\n",
    "cols.remove('core_smile')\n",
    "print(cols)\n",
    "#del dict\n",
    "dataTypes = dict(frame_test.dtypes)\n",
    "print(dataTypes)"
   ]
  },
  {
   "cell_type": "code",
   "execution_count": 7,
   "metadata": {},
   "outputs": [
    {
     "name": "stdout",
     "output_type": "stream",
     "text": [
      "200\n",
      "33.333333333333336\n"
     ]
    },
    {
     "data": {
      "text/plain": [
       "0"
      ]
     },
     "execution_count": 7,
     "metadata": {},
     "output_type": "execute_result"
    }
   ],
   "source": [
    "size=(200,200)\n",
    "print(size[0])\n",
    "print(size[0]/6.)\n",
    "outFile='test10_model13_fold0_split.xlsx'\n",
    "workbook = xlsxwriter.Workbook(outFile)\n",
    "worksheet = workbook.add_worksheet()\n",
    "worksheet.set_column('A:B',size[0]/6.)"
   ]
  },
  {
   "cell_type": "code",
   "execution_count": 8,
   "metadata": {},
   "outputs": [],
   "source": [
    "cell_format1 = workbook.add_format({'bold':True,'font_color':'red'})\n",
    "cell_format1.set_align('vcenter')\n",
    "cell_format2 = workbook.add_format()\n",
    "cell_format2.set_align('vcenter')\n",
    "c2 = 2\n",
    "for x in cols:\n",
    "    worksheet.write_string(0, c2, x)\n",
    "    c2 += 1"
   ]
  },
  {
   "cell_type": "code",
   "execution_count": 9,
   "metadata": {},
   "outputs": [
    {
     "name": "stdout",
     "output_type": "stream",
     "text": [
      "27\n",
      "18\n",
      "112\n",
      "23\n",
      "113\n",
      "25\n",
      "24\n",
      "10\n",
      "92\n",
      "57\n",
      "46\n",
      "87\n",
      "115\n",
      "103\n",
      "20\n",
      "99\n",
      "88\n",
      "38\n",
      "44\n",
      "80\n",
      "19\n",
      "116\n",
      "34\n",
      "79\n",
      "121\n",
      "9\n",
      "109\n",
      "31\n",
      "36\n",
      "60\n",
      "89\n",
      "29\n",
      "65\n",
      "58\n",
      "7\n",
      "56\n",
      "41\n",
      "64\n",
      "68\n",
      "49\n",
      "74\n",
      "94\n",
      "66\n",
      "84\n",
      "16\n",
      "95\n",
      "33\n",
      "63\n",
      "101\n",
      "47\n",
      "119\n",
      "83\n",
      "5\n",
      "120\n",
      "54\n"
     ]
    }
   ],
   "source": [
    "import os\n",
    "from rdkit.Chem import Draw\n",
    "from io import BytesIO\n",
    "from numpy import math\n",
    "c = 1\n",
    "for index,row in frame_test.iterrows():\n",
    "    #print(row)\n",
    "    image_data1 = BytesIO()\n",
    "    image_data2 = BytesIO()\n",
    "    #image_data3 = BytesIO()\n",
    "    mol1 = Chem.MolFromSmiles(row['smile'])\n",
    "    if pd.isnull(row['core_smile']):\n",
    "        mol2 = Chem.MolFromSmiles('*')\n",
    "    else:\n",
    "        print(index)\n",
    "        mol2 = Chem.MolFromSmiles(row['core_smile'])\n",
    "    \n",
    "    \n",
    "    #img1 = Draw.MolToImage(row['Full'],size=(200,200))\n",
    "    img1 = Draw.MolToImage(mol1,size=(200,200))\n",
    "    #img2 = Draw.MolToImage(row['part4'],size=(200,200))\n",
    "    img2 = Draw.MolToImage(mol2,size=(200,200))\n",
    "    #img3 = Draw.MolToImage(row['part5'],size=(200,200))\n",
    "    img1.save(image_data1,format='PNG')\n",
    "    img2.save(image_data2,format='PNG')\n",
    "    #img3.save(image_data3,format='PNG')\n",
    "    \n",
    "    worksheet.set_row(c,height=size[1])\n",
    "    worksheet.insert_image(c,0,\"f\",{'image_data':image_data1,'x_offset': 15, 'y_offset': 50})\n",
    "    worksheet.insert_image(c,1,\"f\",{'image_data':image_data2,'x_offset': 15, 'y_offset': 50})\n",
    "    #worksheet.insert_image(c,2,\"f\",{'image_data':image_data3,'x_offset': 15, 'y_offset': 50})\n",
    "    \n",
    "    c2 = 2\n",
    "    for x in cols:\n",
    "        if str(dataTypes[x]) == 'object':\n",
    "            worksheet.write_string(c, c2, str(row[x])[:32000],cell_format1) # string length is limited in xlsx\n",
    "        elif ('float' in str(dataTypes[x])) or ('int' in str(dataTypes[x])):\n",
    "            if (row[x] != np.nan) or (row[x] != np.inf):\n",
    "                worksheet.write_number(c, c2, row[x],cell_format1)\n",
    "        elif 'datetime' in str(dataTypes[x]):\n",
    "                worksheet.write_datetime(c, c2, row[x],cell_format1)\n",
    "        c2 +=1\n",
    "    c +=1\n",
    "\n",
    "workbook.close()\n",
    "image_data1.close()\n",
    "image_data2.close()\n",
    "#image_data3.close()"
   ]
  },
  {
   "cell_type": "code",
   "execution_count": 10,
   "metadata": {},
   "outputs": [
    {
     "ename": "TypeError",
     "evalue": "No registered converter was able to produce a C++ rvalue of type std::__cxx11::basic_string<wchar_t, std::char_traits<wchar_t>, std::allocator<wchar_t> > from this Python object of type float",
     "output_type": "error",
     "traceback": [
      "\u001b[0;31m---------------------------------------------------------------------------\u001b[0m",
      "\u001b[0;31mTypeError\u001b[0m                                 Traceback (most recent call last)",
      "\u001b[0;32m/tmp/ipykernel_136307/2612684471.py\u001b[0m in \u001b[0;36m<module>\u001b[0;34m\u001b[0m\n\u001b[0;32m----> 1\u001b[0;31m \u001b[0mPandasTools\u001b[0m\u001b[0;34m.\u001b[0m\u001b[0mAddMoleculeColumnToFrame\u001b[0m\u001b[0;34m(\u001b[0m\u001b[0mdata_check\u001b[0m\u001b[0;34m,\u001b[0m\u001b[0;34m'core_smile'\u001b[0m\u001b[0;34m,\u001b[0m\u001b[0;34m'Molecule'\u001b[0m\u001b[0;34m)\u001b[0m\u001b[0;34m\u001b[0m\u001b[0;34m\u001b[0m\u001b[0m\n\u001b[0m\u001b[1;32m      2\u001b[0m \u001b[0mdata_check\u001b[0m\u001b[0;34m[\u001b[0m\u001b[0;34m[\u001b[0m\u001b[0;34m\"core_smile\"\u001b[0m\u001b[0;34m,\u001b[0m\u001b[0;34m\"Molecule\"\u001b[0m\u001b[0;34m,\u001b[0m\u001b[0;34m'core_score'\u001b[0m\u001b[0;34m]\u001b[0m\u001b[0;34m]\u001b[0m\u001b[0;34m.\u001b[0m\u001b[0mhead\u001b[0m\u001b[0;34m(\u001b[0m\u001b[0;36m2\u001b[0m\u001b[0;34m)\u001b[0m\u001b[0;34m\u001b[0m\u001b[0;34m\u001b[0m\u001b[0m\n",
      "\u001b[0;32m~/anaconda3/envs/chemprop_1119/lib/python3.9/site-packages/rdkit/Chem/PandasTools.py\u001b[0m in \u001b[0;36mAddMoleculeColumnToFrame\u001b[0;34m(frame, smilesCol, molCol, includeFingerprints)\u001b[0m\n\u001b[1;32m    423\u001b[0m     '''\n\u001b[1;32m    424\u001b[0m   \u001b[0;32mif\u001b[0m \u001b[0;32mnot\u001b[0m \u001b[0mincludeFingerprints\u001b[0m\u001b[0;34m:\u001b[0m\u001b[0;34m\u001b[0m\u001b[0;34m\u001b[0m\u001b[0m\n\u001b[0;32m--> 425\u001b[0;31m     \u001b[0mframe\u001b[0m\u001b[0;34m[\u001b[0m\u001b[0mmolCol\u001b[0m\u001b[0;34m]\u001b[0m \u001b[0;34m=\u001b[0m \u001b[0mframe\u001b[0m\u001b[0;34m[\u001b[0m\u001b[0msmilesCol\u001b[0m\u001b[0;34m]\u001b[0m\u001b[0;34m.\u001b[0m\u001b[0mmap\u001b[0m\u001b[0;34m(\u001b[0m\u001b[0mChem\u001b[0m\u001b[0;34m.\u001b[0m\u001b[0mMolFromSmiles\u001b[0m\u001b[0;34m)\u001b[0m\u001b[0;34m\u001b[0m\u001b[0;34m\u001b[0m\u001b[0m\n\u001b[0m\u001b[1;32m    426\u001b[0m   \u001b[0;32melse\u001b[0m\u001b[0;34m:\u001b[0m\u001b[0;34m\u001b[0m\u001b[0;34m\u001b[0m\u001b[0m\n\u001b[1;32m    427\u001b[0m     frame[molCol] = frame[smilesCol].map(\n",
      "\u001b[0;32m~/anaconda3/envs/chemprop_1119/lib/python3.9/site-packages/pandas/core/series.py\u001b[0m in \u001b[0;36mmap\u001b[0;34m(self, arg, na_action)\u001b[0m\n\u001b[1;32m   4159\u001b[0m         \u001b[0mdtype\u001b[0m\u001b[0;34m:\u001b[0m \u001b[0mobject\u001b[0m\u001b[0;34m\u001b[0m\u001b[0;34m\u001b[0m\u001b[0m\n\u001b[1;32m   4160\u001b[0m         \"\"\"\n\u001b[0;32m-> 4161\u001b[0;31m         \u001b[0mnew_values\u001b[0m \u001b[0;34m=\u001b[0m \u001b[0msuper\u001b[0m\u001b[0;34m(\u001b[0m\u001b[0;34m)\u001b[0m\u001b[0;34m.\u001b[0m\u001b[0m_map_values\u001b[0m\u001b[0;34m(\u001b[0m\u001b[0marg\u001b[0m\u001b[0;34m,\u001b[0m \u001b[0mna_action\u001b[0m\u001b[0;34m=\u001b[0m\u001b[0mna_action\u001b[0m\u001b[0;34m)\u001b[0m\u001b[0;34m\u001b[0m\u001b[0;34m\u001b[0m\u001b[0m\n\u001b[0m\u001b[1;32m   4162\u001b[0m         return self._constructor(new_values, index=self.index).__finalize__(\n\u001b[1;32m   4163\u001b[0m             \u001b[0mself\u001b[0m\u001b[0;34m,\u001b[0m \u001b[0mmethod\u001b[0m\u001b[0;34m=\u001b[0m\u001b[0;34m\"map\"\u001b[0m\u001b[0;34m\u001b[0m\u001b[0;34m\u001b[0m\u001b[0m\n",
      "\u001b[0;32m~/anaconda3/envs/chemprop_1119/lib/python3.9/site-packages/pandas/core/base.py\u001b[0m in \u001b[0;36m_map_values\u001b[0;34m(self, mapper, na_action)\u001b[0m\n\u001b[1;32m    868\u001b[0m \u001b[0;34m\u001b[0m\u001b[0m\n\u001b[1;32m    869\u001b[0m         \u001b[0;31m# mapper is a function\u001b[0m\u001b[0;34m\u001b[0m\u001b[0;34m\u001b[0m\u001b[0m\n\u001b[0;32m--> 870\u001b[0;31m         \u001b[0mnew_values\u001b[0m \u001b[0;34m=\u001b[0m \u001b[0mmap_f\u001b[0m\u001b[0;34m(\u001b[0m\u001b[0mvalues\u001b[0m\u001b[0;34m,\u001b[0m \u001b[0mmapper\u001b[0m\u001b[0;34m)\u001b[0m\u001b[0;34m\u001b[0m\u001b[0;34m\u001b[0m\u001b[0m\n\u001b[0m\u001b[1;32m    871\u001b[0m \u001b[0;34m\u001b[0m\u001b[0m\n\u001b[1;32m    872\u001b[0m         \u001b[0;32mreturn\u001b[0m \u001b[0mnew_values\u001b[0m\u001b[0;34m\u001b[0m\u001b[0;34m\u001b[0m\u001b[0m\n",
      "\u001b[0;32m~/anaconda3/envs/chemprop_1119/lib/python3.9/site-packages/pandas/_libs/lib.pyx\u001b[0m in \u001b[0;36mpandas._libs.lib.map_infer\u001b[0;34m()\u001b[0m\n",
      "\u001b[0;31mTypeError\u001b[0m: No registered converter was able to produce a C++ rvalue of type std::__cxx11::basic_string<wchar_t, std::char_traits<wchar_t>, std::allocator<wchar_t> > from this Python object of type float"
     ]
    }
   ],
   "source": [
    "PandasTools.AddMoleculeColumnToFrame(data_check,'core_smile','Molecule')\n",
    "data_check[[\"core_smile\",\"Molecule\",'core_score']].head(2)"
   ]
  }
 ],
 "metadata": {
  "interpreter": {
   "hash": "f41f6ab40e82907d0fc76d8a6a687a6bdadd2dd2b8424b65388284a12bf51084"
  },
  "kernelspec": {
   "display_name": "Python 3.9.7 64-bit ('chemprop_1119': conda)",
   "language": "python",
   "name": "python3"
  },
  "language_info": {
   "codemirror_mode": {
    "name": "ipython",
    "version": 3
   },
   "file_extension": ".py",
   "mimetype": "text/x-python",
   "name": "python",
   "nbconvert_exporter": "python",
   "pygments_lexer": "ipython3",
   "version": "3.9.7"
  },
  "orig_nbformat": 4
 },
 "nbformat": 4,
 "nbformat_minor": 2
}
