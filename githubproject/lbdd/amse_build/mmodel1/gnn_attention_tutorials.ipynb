{
 "cells": [
  {
   "cell_type": "code",
   "execution_count": 1,
   "metadata": {},
   "outputs": [],
   "source": [
    "import torch\n",
    "from torch import nn"
   ]
  },
  {
   "cell_type": "code",
   "execution_count": 2,
   "metadata": {},
   "outputs": [],
   "source": [
    "class GCNlayer(nn.Module):\n",
    "    def __init__(self,c_in,c_out):\n",
    "        super().__init__()\n",
    "        self.projection = nn.Linear(c_in,c_out)\n",
    "    def forward(self,node_feats,adj_matrix):\n",
    "        num_neighbours = adj_matrix.sum(dim=-1,keepdims=True)\n",
    "        node_feats = self.projection(node_feats)\n",
    "        node_feats = torch.bmm(adj_matrix,node_feats)\n",
    "        node_feats = node_feats/num_neighbours\n",
    "        return node_feats"
   ]
  },
  {
   "cell_type": "code",
   "execution_count": 10,
   "metadata": {},
   "outputs": [
    {
     "name": "stdout",
     "output_type": "stream",
     "text": [
      "tensor([[[1., 1., 0., 0.],\n",
      "         [1., 1., 1., 1.],\n",
      "         [0., 1., 1., 1.],\n",
      "         [0., 1., 1., 1.]]])\n",
      "tensor([[0, 0, 0],\n",
      "        [0, 0, 1],\n",
      "        [0, 1, 0],\n",
      "        [0, 1, 1],\n",
      "        [0, 1, 2],\n",
      "        [0, 1, 3],\n",
      "        [0, 2, 1],\n",
      "        [0, 2, 2],\n",
      "        [0, 2, 3],\n",
      "        [0, 3, 1],\n",
      "        [0, 3, 2],\n",
      "        [0, 3, 3]])\n",
      "tensor([0, 0, 1, 1, 1, 1, 2, 2, 2, 3, 3, 3])\n"
     ]
    }
   ],
   "source": [
    "node_feats = torch.arange(8,dtype=torch.float32).view(1,4,2)\n",
    "adj_matrix = torch.Tensor([[[1,1,0,0],[1,1,1,1],[0,1,1,1],[0,1,1,1]]])\n",
    "#print(node_feats)\n",
    "print(adj_matrix)\n",
    "xxx = adj_matrix.nonzero(as_tuple=False)\n",
    "print(xxx)\n",
    "print(xxx[:,1])"
   ]
  },
  {
   "cell_type": "code",
   "execution_count": 7,
   "metadata": {},
   "outputs": [
    {
     "name": "stdout",
     "output_type": "stream",
     "text": [
      "tensor([[[1., 2.],\n",
      "         [3., 4.],\n",
      "         [4., 5.],\n",
      "         [4., 5.]]])\n"
     ]
    }
   ],
   "source": [
    "layer = GCNlayer(c_in=2,c_out=2)\n",
    "layer.projection.weight.data = torch.Tensor([[1.,0.],[0.,1.]])\n",
    "layer.projection.bias.data = torch.Tensor([0.,0.])\n",
    "with torch.no_grad():\n",
    "    out_feats = layer(node_feats,adj_matrix)\n",
    "print(out_feats)"
   ]
  },
  {
   "cell_type": "code",
   "execution_count": null,
   "metadata": {},
   "outputs": [],
   "source": [
    "class GATLayer(nn.Module):\n",
    "    def __init__(self,c_in,c_out,num_heads=1,concat_head=True,alpha=0.2):\n",
    "        super.__init__()\n",
    "        self.num_heads = num_heads\n",
    "        self.concat_heads = concat_head\n",
    "        if self.concat_heads:\n",
    "            assert c_out % num_heads == 0, \"Number of output features must be a multiple of the count of heads\"\n",
    "            c_out = c_out // num_heads\n",
    "            self.projection = nn.Linear(c_in,c_out*num_heads)\n",
    "            self.a = nn.Parameter(torch.Tensor(num_heads,2*c_out)) # one per head\n",
    "            self.leakyrelu = nn.LeakyReLU(alpha)\n",
    "\n",
    "            nn.init.xavier_uniform_(self.projection.weight.data,gain=1.414)\n",
    "            nn.init.xavier_uniform_(self.a.data,gain=1.414)\n",
    "    def forward(self,node_feats,adj_matrix,print_attn_probs=False):\n",
    "        batch_size,num_nodes = node_feats.size(0),node_feats.size(1)\n",
    "        node_feats = self.projection(node_feats)\n",
    "        node_feats = node_feats.view(batch_size,num_nodes,self.num_heads,-1)\n",
    "        edges = adj_matrix.nonzero(as_tuple=False)\n",
    "        node_feats_flat = node_feats.view(batch_size*num_nodes,self.num_heads,-1)\n",
    "        edges_indices_row = edges[:,0]*num_nodes + edges[:,1]\n",
    "        edges_indices_col = edges[:,0]*num_nodes + edges[:,2]\n",
    "        a_input = torch.cat([\n",
    "            torch.index_select(input=node_feats_flat,index=edges_indices_row,dim=0)\n",
    "            torch.index_selecy(input=node_feats_flat,index=edges_indices_col,dim=0)\n",
    "        ],dim=-1)\n",
    "\n",
    "        "
   ]
  }
 ],
 "metadata": {
  "interpreter": {
   "hash": "f41f6ab40e82907d0fc76d8a6a687a6bdadd2dd2b8424b65388284a12bf51084"
  },
  "kernelspec": {
   "display_name": "Python 3.9.7 64-bit ('chemprop_1119': conda)",
   "language": "python",
   "name": "python3"
  },
  "language_info": {
   "codemirror_mode": {
    "name": "ipython",
    "version": 3
   },
   "file_extension": ".py",
   "mimetype": "text/x-python",
   "name": "python",
   "nbconvert_exporter": "python",
   "pygments_lexer": "ipython3",
   "version": "3.9.7"
  },
  "orig_nbformat": 4
 },
 "nbformat": 4,
 "nbformat_minor": 2
}
