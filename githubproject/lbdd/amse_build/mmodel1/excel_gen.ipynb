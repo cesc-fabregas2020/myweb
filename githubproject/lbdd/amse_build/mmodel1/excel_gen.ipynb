{
 "cells": [
  {
   "cell_type": "code",
   "execution_count": 1,
   "metadata": {},
   "outputs": [],
   "source": [
    "import pandas as pd\n",
    "from rdkit import Chem, DataStructs\n",
    "from rdkit.Chem import PandasTools, AllChem"
   ]
  },
  {
   "cell_type": "code",
   "execution_count": 2,
   "metadata": {},
   "outputs": [
    {
     "data": {
      "text/html": [
       "<div>\n",
       "<style scoped>\n",
       "    .dataframe tbody tr th:only-of-type {\n",
       "        vertical-align: middle;\n",
       "    }\n",
       "\n",
       "    .dataframe tbody tr th {\n",
       "        vertical-align: top;\n",
       "    }\n",
       "\n",
       "    .dataframe thead th {\n",
       "        text-align: right;\n",
       "    }\n",
       "</style>\n",
       "<table border=\"1\" class=\"dataframe\">\n",
       "  <thead>\n",
       "    <tr style=\"text-align: right;\">\n",
       "      <th></th>\n",
       "      <th>Smile</th>\n",
       "      <th>Label</th>\n",
       "    </tr>\n",
       "  </thead>\n",
       "  <tbody>\n",
       "    <tr>\n",
       "      <th>64</th>\n",
       "      <td>[C@@H]1(C)[C@H]2Cc3ccc(NCc4cnn(CCCC(O)=O)c4C(=...</td>\n",
       "      <td>0.227556</td>\n",
       "    </tr>\n",
       "  </tbody>\n",
       "</table>\n",
       "</div>"
      ],
      "text/plain": [
       "                                                Smile     Label\n",
       "64  [C@@H]1(C)[C@H]2Cc3ccc(NCc4cnn(CCCC(O)=O)c4C(=...  0.227556"
      ]
     },
     "execution_count": 2,
     "metadata": {},
     "output_type": "execute_result"
    }
   ],
   "source": [
    "data = pd.read_csv(\"../mmodel14/cmp2.csv\")\n",
    "data_check=data.sort_values('Label')\n",
    "data_check.head(1)"
   ]
  },
  {
   "cell_type": "code",
   "execution_count": 3,
   "metadata": {},
   "outputs": [
    {
     "data": {
      "text/html": [
       "<div>\n",
       "<style scoped>\n",
       "    .dataframe tbody tr th:only-of-type {\n",
       "        vertical-align: middle;\n",
       "    }\n",
       "\n",
       "    .dataframe tbody tr th {\n",
       "        vertical-align: top;\n",
       "    }\n",
       "\n",
       "    .dataframe thead th {\n",
       "        text-align: right;\n",
       "    }\n",
       "</style>\n",
       "<table border=\"1\" class=\"dataframe\">\n",
       "  <thead>\n",
       "    <tr style=\"text-align: right;\">\n",
       "      <th></th>\n",
       "      <th>Smile</th>\n",
       "      <th>Molecule</th>\n",
       "      <th>Label</th>\n",
       "    </tr>\n",
       "  </thead>\n",
       "  <tbody>\n",
       "    <tr>\n",
       "      <th>64</th>\n",
       "      <td>[C@@H]1(C)[C@H]2Cc3ccc(NCc4cnn(CCCC(O)=O)c4C(=...</td>\n",
       "      <td><img data-content=\"rdkit/molecule\" src=\"data:image/png;base64,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\" alt=\"Mol\"/></td>\n",
       "      <td>0.227556</td>\n",
       "    </tr>\n",
       "    <tr>\n",
       "      <th>52</th>\n",
       "      <td>C(C(=O)O)n1ncc(CNc2cc3c(cc2)C[C@H]2N([C@@H](c4...</td>\n",
       "      <td><img data-content=\"rdkit/molecule\" src=\"data:image/png;base64,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\" alt=\"Mol\"/></td>\n",
       "      <td>0.240187</td>\n",
       "    </tr>\n",
       "  </tbody>\n",
       "</table>\n",
       "</div>"
      ],
      "text/plain": [
       "                                                Smile  \\\n",
       "64  [C@@H]1(C)[C@H]2Cc3ccc(NCc4cnn(CCCC(O)=O)c4C(=...   \n",
       "52  C(C(=O)O)n1ncc(CNc2cc3c(cc2)C[C@H]2N([C@@H](c4...   \n",
       "\n",
       "                                             Molecule     Label  \n",
       "64  <img data-content=\"rdkit/molecule\" src=\"data:i...  0.227556  \n",
       "52  <img data-content=\"rdkit/molecule\" src=\"data:i...  0.240187  "
      ]
     },
     "execution_count": 3,
     "metadata": {},
     "output_type": "execute_result"
    }
   ],
   "source": [
    "PandasTools.AddMoleculeColumnToFrame(data_check,'Smile','Molecule')\n",
    "data_check[[\"Smile\",\"Molecule\",'Label']].head(2)"
   ]
  },
  {
   "cell_type": "code",
   "execution_count": 4,
   "metadata": {},
   "outputs": [],
   "source": [
    "PandasTools.SaveXlsxFromFrame(data_check,'lxr_20220311_dock68.xlsx',molCol='Molecule')"
   ]
  }
 ],
 "metadata": {
  "interpreter": {
   "hash": "f41f6ab40e82907d0fc76d8a6a687a6bdadd2dd2b8424b65388284a12bf51084"
  },
  "kernelspec": {
   "display_name": "Python 3.9.7 64-bit ('chemprop_1119': conda)",
   "language": "python",
   "name": "python3"
  },
  "language_info": {
   "codemirror_mode": {
    "name": "ipython",
    "version": 3
   },
   "file_extension": ".py",
   "mimetype": "text/x-python",
   "name": "python",
   "nbconvert_exporter": "python",
   "pygments_lexer": "ipython3",
   "version": "3.9.7"
  },
  "orig_nbformat": 4
 },
 "nbformat": 4,
 "nbformat_minor": 2
}
