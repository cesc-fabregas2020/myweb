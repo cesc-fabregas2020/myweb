{
 "cells": [
  {
   "cell_type": "code",
   "execution_count": 1,
   "metadata": {},
   "outputs": [],
   "source": [
    "import pandas as pd\n",
    "import csv\n",
    "from rdkit import Chem\n",
    "import numpy as np"
   ]
  },
  {
   "cell_type": "code",
   "execution_count": 2,
   "metadata": {},
   "outputs": [],
   "source": [
    "mols = Chem.SDMolSupplier('20220311_dock68.sdf')"
   ]
  },
  {
   "cell_type": "code",
   "execution_count": 3,
   "metadata": {},
   "outputs": [
    {
     "name": "stdout",
     "output_type": "stream",
     "text": [
      "69\n"
     ]
    }
   ],
   "source": [
    "n = 0\n",
    "for mol in mols:\n",
    "    if mol is None:\n",
    "        print('invalid SMILES')\n",
    "        print(n)\n",
    "    else:\n",
    "        try:\n",
    "            Chem.SanitizeMol(mol)\n",
    "        except:\n",
    "            print('invalid chemistry')\n",
    "            print(n)\n",
    "    n = n + 1\n",
    "print(n)"
   ]
  },
  {
   "cell_type": "code",
   "execution_count": 4,
   "metadata": {},
   "outputs": [],
   "source": [
    "smile_list = []\n",
    "for m in mols:\n",
    "    #m = Chem.MolFromSmiles(smile)\n",
    "    atom_idxs = list(range(m.GetNumAtoms()))\n",
    "    np.random.shuffle(atom_idxs)\n",
    "    m = Chem.RenumberAtoms(m,atom_idxs)\n",
    "    #smile_list.append(Chem.MolToSmiles(m,canonical=False))\n",
    "    smile_list.append(Chem.MolToSmiles(m,canonical=False))"
   ]
  },
  {
   "cell_type": "code",
   "execution_count": 5,
   "metadata": {},
   "outputs": [],
   "source": [
    "with open('LXR_20220311_dock68_random_nocanonical.csv','w') as f:\n",
    "    writer = csv.writer(f)\n",
    "    writer.writerow(['Smile'])\n",
    "    writer.writerows(zip(smile_list))"
   ]
  }
 ],
 "metadata": {
  "interpreter": {
   "hash": "f41f6ab40e82907d0fc76d8a6a687a6bdadd2dd2b8424b65388284a12bf51084"
  },
  "kernelspec": {
   "display_name": "Python 3.9.7 ('chemprop_1119')",
   "language": "python",
   "name": "python3"
  },
  "language_info": {
   "codemirror_mode": {
    "name": "ipython",
    "version": 3
   },
   "file_extension": ".py",
   "mimetype": "text/x-python",
   "name": "python",
   "nbconvert_exporter": "python",
   "pygments_lexer": "ipython3",
   "version": "3.9.7"
  },
  "orig_nbformat": 4
 },
 "nbformat": 4,
 "nbformat_minor": 2
}
