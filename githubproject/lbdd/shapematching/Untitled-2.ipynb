{
 "cells": [
  {
   "cell_type": "code",
   "execution_count": 1,
   "metadata": {},
   "outputs": [],
   "source": [
    "from rdkit import Chem\n",
    "from rdkit.Chem import AllChem\n",
    "from rdkit.Chem import Draw\n",
    "from rdkit.Chem.Draw import IPythonConsole\n",
    "from rdkit.Chem import PyMol\n",
    "from rdkit.Chem.Subshape import SubshapeAligner,SubshapeBuilder,SubshapeObjects\n",
    "import sys\n",
    "import os\n",
    "sys.path.append('/home/jxy/myweb/myweb/softwares/shape-it-main/pyshapeit')\n",
    "import cpyshapeit"
   ]
  },
  {
   "cell_type": "code",
   "execution_count": 2,
   "metadata": {},
   "outputs": [],
   "source": [
    "mols = [m for m in Chem.SDMolSupplier('cdk2.sdf')]\n",
    "### _Name prop is required for align with shape-it\n",
    "for m in mols:\n",
    "    molid = m.GetProp('id')\n",
    "    m.SetProp('_Name',molid)"
   ]
  },
  {
   "cell_type": "code",
   "execution_count": 4,
   "metadata": {},
   "outputs": [
    {
     "name": "stdout",
     "output_type": "stream",
     "text": [
      "ZINC03814457 ZINC03814459\n"
     ]
    }
   ],
   "source": [
    "ref = mols[0]\n",
    "probe = mols[1]\n",
    "print(ref.GetProp('_Name'),probe.GetProp('_Name'))"
   ]
  },
  {
   "cell_type": "code",
   "execution_count": 5,
   "metadata": {},
   "outputs": [
    {
     "ename": "ArgumentError",
     "evalue": "Python argument types in\n    cpyshapeit.AlignMol(Mol, Mol)\ndid not match C++ signature:\n    AlignMol(RDKit::ROMol ref, RDKit::ROMol {lvalue} probe, std::__cxx11::basic_string<char, std::char_traits<char>, std::allocator<char> > whichScore='Shape-it::Tanimoto', double maxIter=0.0, double cutoff=0.0)",
     "output_type": "error",
     "traceback": [
      "\u001b[0;31m---------------------------------------------------------------------------\u001b[0m",
      "\u001b[0;31mArgumentError\u001b[0m                             Traceback (most recent call last)",
      "\u001b[0;32m/tmp/ipykernel_261470/2235553173.py\u001b[0m in \u001b[0;36m<module>\u001b[0;34m\u001b[0m\n\u001b[1;32m      5\u001b[0m \u001b[0mrefshape\u001b[0m \u001b[0;34m=\u001b[0m \u001b[0mbuilder2\u001b[0m\u001b[0;34m.\u001b[0m\u001b[0mGenerateSubshapeShape\u001b[0m\u001b[0;34m(\u001b[0m\u001b[0mref\u001b[0m\u001b[0;34m)\u001b[0m\u001b[0;34m\u001b[0m\u001b[0;34m\u001b[0m\u001b[0m\n\u001b[1;32m      6\u001b[0m \u001b[0mprobeshape\u001b[0m \u001b[0;34m=\u001b[0m \u001b[0mbuilder2\u001b[0m\u001b[0;34m.\u001b[0m\u001b[0mGenerateSubshapeShape\u001b[0m\u001b[0;34m(\u001b[0m\u001b[0mprobe\u001b[0m\u001b[0;34m)\u001b[0m\u001b[0;34m\u001b[0m\u001b[0;34m\u001b[0m\u001b[0m\n\u001b[0;32m----> 7\u001b[0;31m \u001b[0mscore\u001b[0m \u001b[0;34m=\u001b[0m \u001b[0mcpyshapeit\u001b[0m\u001b[0;34m.\u001b[0m\u001b[0mAlignMol\u001b[0m\u001b[0;34m(\u001b[0m\u001b[0mref\u001b[0m\u001b[0;34m,\u001b[0m\u001b[0mprobe\u001b[0m\u001b[0;34m)\u001b[0m\u001b[0;34m\u001b[0m\u001b[0;34m\u001b[0m\u001b[0m\n\u001b[0m",
      "\u001b[0;31mArgumentError\u001b[0m: Python argument types in\n    cpyshapeit.AlignMol(Mol, Mol)\ndid not match C++ signature:\n    AlignMol(RDKit::ROMol ref, RDKit::ROMol {lvalue} probe, std::__cxx11::basic_string<char, std::char_traits<char>, std::allocator<char> > whichScore='Shape-it::Tanimoto', double maxIter=0.0, double cutoff=0.0)"
     ]
    }
   ],
   "source": [
    "AllChem.CanonicalizeConformer(ref.GetConformer())\n",
    "builder2 = SubshapeBuilder.SubshapeBuilder()\n",
    "builder2.gridDims = (20.,20.,10)\n",
    "builder2.gridSpacing = 0.5\n",
    "refshape = builder2.GenerateSubshapeShape(ref)\n",
    "probeshape = builder2.GenerateSubshapeShape(probe)\n",
    "score = cpyshapeit.AlignMol(ref,probe)P"
   ]
  }
 ],
 "metadata": {
  "interpreter": {
   "hash": "f41f6ab40e82907d0fc76d8a6a687a6bdadd2dd2b8424b65388284a12bf51084"
  },
  "kernelspec": {
   "display_name": "Python 3.9.7 ('chemprop_1119')",
   "language": "python",
   "name": "python3"
  },
  "language_info": {
   "codemirror_mode": {
    "name": "ipython",
    "version": 3
   },
   "file_extension": ".py",
   "mimetype": "text/x-python",
   "name": "python",
   "nbconvert_exporter": "python",
   "pygments_lexer": "ipython3",
   "version": "3.9.7"
  },
  "orig_nbformat": 4
 },
 "nbformat": 4,
 "nbformat_minor": 2
}
