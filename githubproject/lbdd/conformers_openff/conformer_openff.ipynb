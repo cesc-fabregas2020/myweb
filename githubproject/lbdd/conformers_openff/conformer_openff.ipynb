{
 "cells": [
  {
   "cell_type": "code",
   "execution_count": 23,
   "id": "21f1bf6a",
   "metadata": {},
   "outputs": [],
   "source": [
    "import shutil\n",
    "\n",
    "import numpy as np\n",
    "from rdkit.Chem import rdMolAlign\n",
    "\n",
    "try:\n",
    "    import openmm\n",
    "    from openmm import unit\n",
    "except ImportError:\n",
    "    from simtk import openmm, unit\n",
    "\n",
    "from openff.toolkit.topology import Molecule, Topology\n",
    "from openff.toolkit.utils import RDKitToolkitWrapper, get_data_file_path"
   ]
  },
  {
   "cell_type": "code",
   "execution_count": 24,
   "id": "9ef02f6b",
   "metadata": {},
   "outputs": [],
   "source": [
    "# If using a OFF Toolkit version before 0.7.0, loading SDFs through RDKit and OpenEye may provide\n",
    "# different behavior in some cases. So, here we force loading through RDKit to ensure the correct behavior\n",
    "rdktkw = RDKitToolkitWrapper()\n",
    "\n",
    "# Load in the molecule and its conformers.\n",
    "# Note that all conformers of the same molecule are loaded as separate Molecule objects\n",
    "loaded_molecules = Molecule.from_file(\"7_4.sdf\",toolkit_registry=rdktkw,)\n",
    "#loaded_molecules = Molecule.from_file(\"rdkit_lxr30.sdf\",toolkit_registry=rdktkw,)"
   ]
  },
  {
   "cell_type": "code",
   "execution_count": 25,
   "id": "caf32824",
   "metadata": {},
   "outputs": [
    {
     "name": "stdout",
     "output_type": "stream",
     "text": [
      "1 unique molecule(s) loaded, with 1 total conformers\n"
     ]
    }
   ],
   "source": [
    "# The logic below only works for lists of molecules, so if a\n",
    "# single molecule was loaded, cast it to list\n",
    "if type(loaded_molecules) is not list:\n",
    "    loaded_molecules = [loaded_molecules]\n",
    "\n",
    "# Collatate all conformers of the same molecule\n",
    "# NOTE: This isn't necessary if you have already loaded or created multi-conformer molecules;\n",
    "# it is just needed because our SDF reader does not automatically collapse conformers.\n",
    "molecules = [loaded_molecules[0]]\n",
    "for molecule in loaded_molecules[1:]:\n",
    "    if molecule == molecules[-1]:\n",
    "        for conformer in molecule.conformers:\n",
    "            molecules[-1].add_conformer(conformer)\n",
    "    else:\n",
    "        molecules.append(molecule)\n",
    "\n",
    "n_molecules = len(molecules)\n",
    "n_conformers = sum(mol.n_conformers for mol in molecules)\n",
    "print(f\"{n_molecules} unique molecule(s) loaded, with {n_conformers} total conformers\")"
   ]
  },
  {
   "cell_type": "code",
   "execution_count": 26,
   "id": "7f050d7f",
   "metadata": {},
   "outputs": [
    {
     "ename": "OSError",
     "evalue": "Source openff_unconstrained-2.0.0.offxml could not be read. If this is a file, ensure that the path is correct.\nIf the file is present, ensure it is in a known SMIRNOFF encoding.\nValid formats are: ['XML']\nParsing failed with the following error:\nsyntax error: line 1, column 0\n",
     "output_type": "error",
     "traceback": [
      "\u001b[0;31m---------------------------------------------------------------------------\u001b[0m",
      "\u001b[0;31mOSError\u001b[0m                                   Traceback (most recent call last)",
      "\u001b[0;32m/tmp/ipykernel_59673/2874713985.py\u001b[0m in \u001b[0;36m<module>\u001b[0;34m\u001b[0m\n\u001b[1;32m      2\u001b[0m \u001b[0;32mfrom\u001b[0m \u001b[0mopenff\u001b[0m\u001b[0;34m.\u001b[0m\u001b[0mtoolkit\u001b[0m\u001b[0;34m.\u001b[0m\u001b[0mtyping\u001b[0m\u001b[0;34m.\u001b[0m\u001b[0mengines\u001b[0m\u001b[0;34m.\u001b[0m\u001b[0msmirnoff\u001b[0m \u001b[0;32mimport\u001b[0m \u001b[0mForceField\u001b[0m\u001b[0;34m\u001b[0m\u001b[0;34m\u001b[0m\u001b[0m\n\u001b[1;32m      3\u001b[0m \u001b[0;34m\u001b[0m\u001b[0m\n\u001b[0;32m----> 4\u001b[0;31m \u001b[0mforcefield\u001b[0m \u001b[0;34m=\u001b[0m \u001b[0mForceField\u001b[0m\u001b[0;34m(\u001b[0m\u001b[0;34m\"openff_unconstrained-2.0.0.offxml\"\u001b[0m\u001b[0;34m)\u001b[0m\u001b[0;34m\u001b[0m\u001b[0;34m\u001b[0m\u001b[0m\n\u001b[0m",
      "\u001b[0;32m~/anaconda3/envs/chemprop_1119/lib/python3.9/site-packages/openff/toolkit/typing/engines/smirnoff/forcefield.py\u001b[0m in \u001b[0;36m__init__\u001b[0;34m(self, aromaticity_model, parameter_handler_classes, parameter_io_handler_classes, disable_version_check, allow_cosmetic_attributes, load_plugins, *sources)\u001b[0m\n\u001b[1;32m    351\u001b[0m \u001b[0;34m\u001b[0m\u001b[0m\n\u001b[1;32m    352\u001b[0m         \u001b[0;31m# Parse all sources containing SMIRNOFF parameter definitions\u001b[0m\u001b[0;34m\u001b[0m\u001b[0;34m\u001b[0m\u001b[0m\n\u001b[0;32m--> 353\u001b[0;31m         \u001b[0mself\u001b[0m\u001b[0;34m.\u001b[0m\u001b[0mparse_sources\u001b[0m\u001b[0;34m(\u001b[0m\u001b[0msources\u001b[0m\u001b[0;34m,\u001b[0m \u001b[0mallow_cosmetic_attributes\u001b[0m\u001b[0;34m=\u001b[0m\u001b[0mallow_cosmetic_attributes\u001b[0m\u001b[0;34m)\u001b[0m\u001b[0;34m\u001b[0m\u001b[0;34m\u001b[0m\u001b[0m\n\u001b[0m\u001b[1;32m    354\u001b[0m \u001b[0;34m\u001b[0m\u001b[0m\n\u001b[1;32m    355\u001b[0m     \u001b[0;32mdef\u001b[0m \u001b[0m_initialize\u001b[0m\u001b[0;34m(\u001b[0m\u001b[0mself\u001b[0m\u001b[0;34m)\u001b[0m\u001b[0;34m:\u001b[0m\u001b[0;34m\u001b[0m\u001b[0;34m\u001b[0m\u001b[0m\n",
      "\u001b[0;32m~/anaconda3/envs/chemprop_1119/lib/python3.9/site-packages/openff/toolkit/typing/engines/smirnoff/forcefield.py\u001b[0m in \u001b[0;36mparse_sources\u001b[0;34m(self, sources, allow_cosmetic_attributes)\u001b[0m\n\u001b[1;32m    895\u001b[0m         \u001b[0;31m# TODO: If a non-first source fails here, the force field might be partially modified\u001b[0m\u001b[0;34m\u001b[0m\u001b[0;34m\u001b[0m\u001b[0m\n\u001b[1;32m    896\u001b[0m         \u001b[0;32mfor\u001b[0m \u001b[0msource\u001b[0m \u001b[0;32min\u001b[0m \u001b[0msources\u001b[0m\u001b[0;34m:\u001b[0m\u001b[0;34m\u001b[0m\u001b[0;34m\u001b[0m\u001b[0m\n\u001b[0;32m--> 897\u001b[0;31m             \u001b[0msmirnoff_data\u001b[0m \u001b[0;34m=\u001b[0m \u001b[0mself\u001b[0m\u001b[0;34m.\u001b[0m\u001b[0mparse_smirnoff_from_source\u001b[0m\u001b[0;34m(\u001b[0m\u001b[0msource\u001b[0m\u001b[0;34m)\u001b[0m\u001b[0;34m\u001b[0m\u001b[0;34m\u001b[0m\u001b[0m\n\u001b[0m\u001b[1;32m    898\u001b[0m             self._load_smirnoff_data(\n\u001b[1;32m    899\u001b[0m                 \u001b[0msmirnoff_data\u001b[0m\u001b[0;34m,\u001b[0m \u001b[0mallow_cosmetic_attributes\u001b[0m\u001b[0;34m=\u001b[0m\u001b[0mallow_cosmetic_attributes\u001b[0m\u001b[0;34m\u001b[0m\u001b[0;34m\u001b[0m\u001b[0m\n",
      "\u001b[0;32m~/anaconda3/envs/chemprop_1119/lib/python3.9/site-packages/openff/toolkit/typing/engines/smirnoff/forcefield.py\u001b[0m in \u001b[0;36mparse_smirnoff_from_source\u001b[0;34m(self, source)\u001b[0m\n\u001b[1;32m   1132\u001b[0m         \u001b[0mmsg\u001b[0m \u001b[0;34m+=\u001b[0m \u001b[0;34mf\"Valid formats are: {valid_formats}\\n\"\u001b[0m\u001b[0;34m\u001b[0m\u001b[0;34m\u001b[0m\u001b[0m\n\u001b[1;32m   1133\u001b[0m         \u001b[0mmsg\u001b[0m \u001b[0;34m+=\u001b[0m \u001b[0;34mf\"Parsing failed with the following error:\\n{exception_msg}\\n\"\u001b[0m\u001b[0;34m\u001b[0m\u001b[0;34m\u001b[0m\u001b[0m\n\u001b[0;32m-> 1134\u001b[0;31m         \u001b[0;32mraise\u001b[0m \u001b[0mIOError\u001b[0m\u001b[0;34m(\u001b[0m\u001b[0mmsg\u001b[0m\u001b[0;34m)\u001b[0m\u001b[0;34m\u001b[0m\u001b[0;34m\u001b[0m\u001b[0m\n\u001b[0m\u001b[1;32m   1135\u001b[0m \u001b[0;34m\u001b[0m\u001b[0m\n\u001b[1;32m   1136\u001b[0m     \u001b[0;32mdef\u001b[0m \u001b[0mto_string\u001b[0m\u001b[0;34m(\u001b[0m\u001b[0mself\u001b[0m\u001b[0;34m,\u001b[0m \u001b[0mio_format\u001b[0m\u001b[0;34m=\u001b[0m\u001b[0;34m\"XML\"\u001b[0m\u001b[0;34m,\u001b[0m \u001b[0mdiscard_cosmetic_attributes\u001b[0m\u001b[0;34m=\u001b[0m\u001b[0;32mFalse\u001b[0m\u001b[0;34m)\u001b[0m\u001b[0;34m:\u001b[0m\u001b[0;34m\u001b[0m\u001b[0;34m\u001b[0m\u001b[0m\n",
      "\u001b[0;31mOSError\u001b[0m: Source openff_unconstrained-2.0.0.offxml could not be read. If this is a file, ensure that the path is correct.\nIf the file is present, ensure it is in a known SMIRNOFF encoding.\nValid formats are: ['XML']\nParsing failed with the following error:\nsyntax error: line 1, column 0\n"
     ]
    }
   ],
   "source": [
    "# Load the openff-2.0.0 force field appropriate for vacuum calculations (without constraints)\n",
    "from openff.toolkit.typing.engines.smirnoff import ForceField\n",
    "\n",
    "forcefield = ForceField(\"openff_unconstrained-2.0.0.offxml\")"
   ]
  },
  {
   "cell_type": "code",
   "execution_count": 15,
   "id": "df832210",
   "metadata": {},
   "outputs": [
    {
     "ename": "OSError",
     "evalue": "Source openff_unconstrained-2.0.0.offxml could not be read. If this is a file, ensure that the path is correct.\nIf the file is present, ensure it is in a known SMIRNOFF encoding.\nValid formats are: ['XML']\nParsing failed with the following error:\nsyntax error: line 1, column 0\n",
     "output_type": "error",
     "traceback": [
      "\u001b[0;31m---------------------------------------------------------------------------\u001b[0m",
      "\u001b[0;31mOSError\u001b[0m                                   Traceback (most recent call last)",
      "\u001b[0;32m/tmp/ipykernel_59673/3348700795.py\u001b[0m in \u001b[0;36m<module>\u001b[0;34m\u001b[0m\n\u001b[1;32m      2\u001b[0m \u001b[0;32mfrom\u001b[0m \u001b[0mopenff\u001b[0m\u001b[0;34m.\u001b[0m\u001b[0mtoolkit\u001b[0m\u001b[0;34m.\u001b[0m\u001b[0mtyping\u001b[0m\u001b[0;34m.\u001b[0m\u001b[0mengines\u001b[0m\u001b[0;34m.\u001b[0m\u001b[0msmirnoff\u001b[0m \u001b[0;32mimport\u001b[0m \u001b[0mForceField\u001b[0m\u001b[0;34m\u001b[0m\u001b[0;34m\u001b[0m\u001b[0m\n\u001b[1;32m      3\u001b[0m \u001b[0;34m\u001b[0m\u001b[0m\n\u001b[0;32m----> 4\u001b[0;31m \u001b[0mforcefield\u001b[0m \u001b[0;34m=\u001b[0m \u001b[0mForceField\u001b[0m\u001b[0;34m(\u001b[0m\u001b[0;34m\"openff_unconstrained-2.0.0.offxml\"\u001b[0m\u001b[0;34m)\u001b[0m\u001b[0;34m\u001b[0m\u001b[0;34m\u001b[0m\u001b[0m\n\u001b[0m\u001b[1;32m      5\u001b[0m \u001b[0;34m\u001b[0m\u001b[0m\n\u001b[1;32m      6\u001b[0m \u001b[0;31m# Loop over molecules and minimize each conformer\u001b[0m\u001b[0;34m\u001b[0m\u001b[0;34m\u001b[0m\u001b[0m\n",
      "\u001b[0;32m~/anaconda3/envs/chemprop_1119/lib/python3.9/site-packages/openff/toolkit/typing/engines/smirnoff/forcefield.py\u001b[0m in \u001b[0;36m__init__\u001b[0;34m(self, aromaticity_model, parameter_handler_classes, parameter_io_handler_classes, disable_version_check, allow_cosmetic_attributes, load_plugins, *sources)\u001b[0m\n\u001b[1;32m    351\u001b[0m \u001b[0;34m\u001b[0m\u001b[0m\n\u001b[1;32m    352\u001b[0m         \u001b[0;31m# Parse all sources containing SMIRNOFF parameter definitions\u001b[0m\u001b[0;34m\u001b[0m\u001b[0;34m\u001b[0m\u001b[0m\n\u001b[0;32m--> 353\u001b[0;31m         \u001b[0mself\u001b[0m\u001b[0;34m.\u001b[0m\u001b[0mparse_sources\u001b[0m\u001b[0;34m(\u001b[0m\u001b[0msources\u001b[0m\u001b[0;34m,\u001b[0m \u001b[0mallow_cosmetic_attributes\u001b[0m\u001b[0;34m=\u001b[0m\u001b[0mallow_cosmetic_attributes\u001b[0m\u001b[0;34m)\u001b[0m\u001b[0;34m\u001b[0m\u001b[0;34m\u001b[0m\u001b[0m\n\u001b[0m\u001b[1;32m    354\u001b[0m \u001b[0;34m\u001b[0m\u001b[0m\n\u001b[1;32m    355\u001b[0m     \u001b[0;32mdef\u001b[0m \u001b[0m_initialize\u001b[0m\u001b[0;34m(\u001b[0m\u001b[0mself\u001b[0m\u001b[0;34m)\u001b[0m\u001b[0;34m:\u001b[0m\u001b[0;34m\u001b[0m\u001b[0;34m\u001b[0m\u001b[0m\n",
      "\u001b[0;32m~/anaconda3/envs/chemprop_1119/lib/python3.9/site-packages/openff/toolkit/typing/engines/smirnoff/forcefield.py\u001b[0m in \u001b[0;36mparse_sources\u001b[0;34m(self, sources, allow_cosmetic_attributes)\u001b[0m\n\u001b[1;32m    895\u001b[0m         \u001b[0;31m# TODO: If a non-first source fails here, the force field might be partially modified\u001b[0m\u001b[0;34m\u001b[0m\u001b[0;34m\u001b[0m\u001b[0m\n\u001b[1;32m    896\u001b[0m         \u001b[0;32mfor\u001b[0m \u001b[0msource\u001b[0m \u001b[0;32min\u001b[0m \u001b[0msources\u001b[0m\u001b[0;34m:\u001b[0m\u001b[0;34m\u001b[0m\u001b[0;34m\u001b[0m\u001b[0m\n\u001b[0;32m--> 897\u001b[0;31m             \u001b[0msmirnoff_data\u001b[0m \u001b[0;34m=\u001b[0m \u001b[0mself\u001b[0m\u001b[0;34m.\u001b[0m\u001b[0mparse_smirnoff_from_source\u001b[0m\u001b[0;34m(\u001b[0m\u001b[0msource\u001b[0m\u001b[0;34m)\u001b[0m\u001b[0;34m\u001b[0m\u001b[0;34m\u001b[0m\u001b[0m\n\u001b[0m\u001b[1;32m    898\u001b[0m             self._load_smirnoff_data(\n\u001b[1;32m    899\u001b[0m                 \u001b[0msmirnoff_data\u001b[0m\u001b[0;34m,\u001b[0m \u001b[0mallow_cosmetic_attributes\u001b[0m\u001b[0;34m=\u001b[0m\u001b[0mallow_cosmetic_attributes\u001b[0m\u001b[0;34m\u001b[0m\u001b[0;34m\u001b[0m\u001b[0m\n",
      "\u001b[0;32m~/anaconda3/envs/chemprop_1119/lib/python3.9/site-packages/openff/toolkit/typing/engines/smirnoff/forcefield.py\u001b[0m in \u001b[0;36mparse_smirnoff_from_source\u001b[0;34m(self, source)\u001b[0m\n\u001b[1;32m   1132\u001b[0m         \u001b[0mmsg\u001b[0m \u001b[0;34m+=\u001b[0m \u001b[0;34mf\"Valid formats are: {valid_formats}\\n\"\u001b[0m\u001b[0;34m\u001b[0m\u001b[0;34m\u001b[0m\u001b[0m\n\u001b[1;32m   1133\u001b[0m         \u001b[0mmsg\u001b[0m \u001b[0;34m+=\u001b[0m \u001b[0;34mf\"Parsing failed with the following error:\\n{exception_msg}\\n\"\u001b[0m\u001b[0;34m\u001b[0m\u001b[0;34m\u001b[0m\u001b[0m\n\u001b[0;32m-> 1134\u001b[0;31m         \u001b[0;32mraise\u001b[0m \u001b[0mIOError\u001b[0m\u001b[0;34m(\u001b[0m\u001b[0mmsg\u001b[0m\u001b[0;34m)\u001b[0m\u001b[0;34m\u001b[0m\u001b[0;34m\u001b[0m\u001b[0m\n\u001b[0m\u001b[1;32m   1135\u001b[0m \u001b[0;34m\u001b[0m\u001b[0m\n\u001b[1;32m   1136\u001b[0m     \u001b[0;32mdef\u001b[0m \u001b[0mto_string\u001b[0m\u001b[0;34m(\u001b[0m\u001b[0mself\u001b[0m\u001b[0;34m,\u001b[0m \u001b[0mio_format\u001b[0m\u001b[0;34m=\u001b[0m\u001b[0;34m\"XML\"\u001b[0m\u001b[0;34m,\u001b[0m \u001b[0mdiscard_cosmetic_attributes\u001b[0m\u001b[0;34m=\u001b[0m\u001b[0;32mFalse\u001b[0m\u001b[0;34m)\u001b[0m\u001b[0;34m:\u001b[0m\u001b[0;34m\u001b[0m\u001b[0;34m\u001b[0m\u001b[0m\n",
      "\u001b[0;31mOSError\u001b[0m: Source openff_unconstrained-2.0.0.offxml could not be read. If this is a file, ensure that the path is correct.\nIf the file is present, ensure it is in a known SMIRNOFF encoding.\nValid formats are: ['XML']\nParsing failed with the following error:\nsyntax error: line 1, column 0\n"
     ]
    }
   ],
   "source": [
    "# Load the openff-2.0.0 force field appropriate for vacuum calculations (without constraints)\n",
    "from openff.toolkit.typing.engines.smirnoff import ForceField\n",
    "\n",
    "forcefield = ForceField(\"openff_unconstrained-2.0.0.offxml\")\n",
    "\n",
    "# Loop over molecules and minimize each conformer\n",
    "for molecule in molecules:\n",
    "    # If the molecule doesn't have a name, set mol.name to be the hill formula\n",
    "    if molecule.name == \"\":\n",
    "        molecule.name = Topology._networkx_to_hill_formula(molecule.to_networkx())\n",
    "    print(\"%s : %d conformers\" % (molecule.name, molecule.n_conformers))\n",
    "    # Make a temporary copy of the molecule that we can update for each minimization\n",
    "    mol_copy = Molecule(molecule)\n",
    "    # Make an OpenFF Topology so we can parameterize the system\n",
    "    off_top = molecule.to_topology()\n",
    "    print(f\"Parametrizing {molecule.name} (may take a moment to calculate charges)\")\n",
    "    system = forcefield.create_openmm_system(off_top)\n",
    "    # Use OpenMM to compute initial and minimized energy for all conformers\n",
    "    integrator = openmm.VerletIntegrator(1 * unit.femtoseconds)\n",
    "    platform = openmm.Platform.getPlatformByName(\"Reference\")\n",
    "    omm_top = off_top.to_openmm()\n",
    "    simulation = openmm.app.Simulation(omm_top, system, integrator, platform)\n",
    "\n",
    "    # Print text header\n",
    "    print(\n",
    "        \"Conformer         Initial PE        Minimized PE        RMS between initial and minimized conformer\"\n",
    "    )\n",
    "    output = [\n",
    "        [\n",
    "            \"Conformer\",\n",
    "            \"Initial PE (kcal/mol)\",\n",
    "            \"Minimized PE (kcal/mol)\",\n",
    "            \"RMS between initial and minimized conformer (Angstrom)\",\n",
    "        ]\n",
    "    ]\n",
    "    for conformer_index, conformer in enumerate(molecule.conformers):\n",
    "        simulation.context.setPositions(conformer)\n",
    "        orig_potential = simulation.context.getState(\n",
    "            getEnergy=True\n",
    "        ).getPotentialEnergy()\n",
    "        simulation.minimizeEnergy()\n",
    "        min_state = simulation.context.getState(getEnergy=True, getPositions=True)\n",
    "        min_potential = min_state.getPotentialEnergy()\n",
    "\n",
    "        # Calculate the RMSD between the initial and minimized conformer\n",
    "        min_coords = min_state.getPositions()\n",
    "        min_coords = (\n",
    "            np.array([[atom.x, atom.y, atom.z] for atom in min_coords]) * unit.nanometer\n",
    "        )\n",
    "        mol_copy._conformers = None\n",
    "        mol_copy.add_conformer(conformer)\n",
    "        mol_copy.add_conformer(min_coords)\n",
    "        rdmol = mol_copy.to_rdkit()\n",
    "        rmslist = []\n",
    "        rdMolAlign.AlignMolConformers(rdmol, RMSlist=rmslist)\n",
    "        minimization_rms = rmslist[0]\n",
    "\n",
    "        # Save the minimized conformer to file\n",
    "        mol_copy._conformers = None\n",
    "        mol_copy.add_conformer(min_coords)\n",
    "        mol_copy.to_file(\n",
    "            f\"{molecule.name}_conf{conformer_index+1}_minimized.sdf\",\n",
    "            file_format=\"sdf\",\n",
    "        )\n",
    "        print(\n",
    "            \"%5d / %5d : %8.3f kcal/mol %8.3f kcal/mol  %8.3f Angstroms\"\n",
    "            % (\n",
    "                conformer_index + 1,\n",
    "                molecule.n_conformers,\n",
    "                orig_potential / unit.kilocalories_per_mole,\n",
    "                min_potential / unit.kilocalories_per_mole,\n",
    "                minimization_rms,\n",
    "            )\n",
    "        )\n",
    "        output.append(\n",
    "            [\n",
    "                str(conformer_index + 1),\n",
    "                f\"{orig_potential/unit.kilocalories_per_mole:.3f}\",\n",
    "                f\"{min_potential/unit.kilocalories_per_mole:.3f}\",\n",
    "                f\"{minimization_rms:.3f}\",\n",
    "            ]\n",
    "        )\n",
    "    # Write the results out to CSV\n",
    "    with open(f\"{molecule.name}.csv\", \"w\") as of:\n",
    "        for line in output:\n",
    "            of.write(\",\".join(line) + \"\\n\")\n",
    "    # Clean up OpenMM Simulation\n",
    "    del simulation, integrator"
   ]
  },
  {
   "cell_type": "code",
   "execution_count": null,
   "id": "93214c62",
   "metadata": {},
   "outputs": [],
   "source": []
  }
 ],
 "metadata": {
  "interpreter": {
   "hash": "f41f6ab40e82907d0fc76d8a6a687a6bdadd2dd2b8424b65388284a12bf51084"
  },
  "kernelspec": {
   "display_name": "Python 3.8.12 64-bit ('base': conda)",
   "language": "python",
   "name": "python3"
  },
  "language_info": {
   "codemirror_mode": {
    "name": "ipython",
    "version": 3
   },
   "file_extension": ".py",
   "mimetype": "text/x-python",
   "name": "python",
   "nbconvert_exporter": "python",
   "pygments_lexer": "ipython3",
   "version": "3.9.7"
  }
 },
 "nbformat": 4,
 "nbformat_minor": 5
}
