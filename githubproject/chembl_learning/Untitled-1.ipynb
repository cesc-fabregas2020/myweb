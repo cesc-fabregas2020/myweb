{
 "cells": [
  {
   "cell_type": "code",
   "execution_count": 1,
   "metadata": {},
   "outputs": [],
   "source": [
    "from chembl_webresource_client.new_client import new_client\n",
    "import pandas as pd "
   ]
  },
  {
   "cell_type": "code",
   "execution_count": 2,
   "metadata": {},
   "outputs": [],
   "source": [
    "molecules = new_client.molecule.filter(molecule_chembl_id__in=['CHEMBL296468','CHEMBL180022','CHEMBL475251','CHEMBL535']) \\\n",
    "                                        .only(['molecule_chembl_id','pref_name','molecule_hierarchy', \\\n",
    "                                        'molecule_properties','max_phase'])"
   ]
  },
  {
   "cell_type": "code",
   "execution_count": 3,
   "metadata": {},
   "outputs": [
    {
     "data": {
      "text/html": [
       "<div>\n",
       "<style scoped>\n",
       "    .dataframe tbody tr th:only-of-type {\n",
       "        vertical-align: middle;\n",
       "    }\n",
       "\n",
       "    .dataframe tbody tr th {\n",
       "        vertical-align: top;\n",
       "    }\n",
       "\n",
       "    .dataframe thead th {\n",
       "        text-align: right;\n",
       "    }\n",
       "</style>\n",
       "<table border=\"1\" class=\"dataframe\">\n",
       "  <thead>\n",
       "    <tr style=\"text-align: right;\">\n",
       "      <th></th>\n",
       "      <th>max_phase</th>\n",
       "      <th>molecule_chembl_id</th>\n",
       "      <th>molecule_hierarchy</th>\n",
       "      <th>molecule_properties</th>\n",
       "      <th>pref_name</th>\n",
       "    </tr>\n",
       "  </thead>\n",
       "  <tbody>\n",
       "    <tr>\n",
       "      <th>0</th>\n",
       "      <td>4</td>\n",
       "      <td>CHEMBL535</td>\n",
       "      <td>{'molecule_chembl_id': 'CHEMBL535', 'parent_ch...</td>\n",
       "      <td>{'alogp': '3.33', 'aromatic_rings': 2, 'cx_log...</td>\n",
       "      <td>SUNITINIB</td>\n",
       "    </tr>\n",
       "    <tr>\n",
       "      <th>1</th>\n",
       "      <td>1</td>\n",
       "      <td>CHEMBL296468</td>\n",
       "      <td>{'molecule_chembl_id': 'CHEMBL296468', 'parent...</td>\n",
       "      <td>{'alogp': '3.66', 'aromatic_rings': 2, 'cx_log...</td>\n",
       "      <td>BMS-387032</td>\n",
       "    </tr>\n",
       "    <tr>\n",
       "      <th>2</th>\n",
       "      <td>4</td>\n",
       "      <td>CHEMBL180022</td>\n",
       "      <td>{'molecule_chembl_id': 'CHEMBL180022', 'parent...</td>\n",
       "      <td>{'alogp': '5.93', 'aromatic_rings': 4, 'cx_log...</td>\n",
       "      <td>NERATINIB</td>\n",
       "    </tr>\n",
       "    <tr>\n",
       "      <th>3</th>\n",
       "      <td>2</td>\n",
       "      <td>CHEMBL475251</td>\n",
       "      <td>{'molecule_chembl_id': 'CHEMBL475251', 'parent...</td>\n",
       "      <td>{'alogp': '3.63', 'aromatic_rings': 3, 'cx_log...</td>\n",
       "      <td>R-406</td>\n",
       "    </tr>\n",
       "  </tbody>\n",
       "</table>\n",
       "</div>"
      ],
      "text/plain": [
       "   max_phase molecule_chembl_id  \\\n",
       "0          4          CHEMBL535   \n",
       "1          1       CHEMBL296468   \n",
       "2          4       CHEMBL180022   \n",
       "3          2       CHEMBL475251   \n",
       "\n",
       "                                  molecule_hierarchy  \\\n",
       "0  {'molecule_chembl_id': 'CHEMBL535', 'parent_ch...   \n",
       "1  {'molecule_chembl_id': 'CHEMBL296468', 'parent...   \n",
       "2  {'molecule_chembl_id': 'CHEMBL180022', 'parent...   \n",
       "3  {'molecule_chembl_id': 'CHEMBL475251', 'parent...   \n",
       "\n",
       "                                 molecule_properties   pref_name  \n",
       "0  {'alogp': '3.33', 'aromatic_rings': 2, 'cx_log...   SUNITINIB  \n",
       "1  {'alogp': '3.66', 'aromatic_rings': 2, 'cx_log...  BMS-387032  \n",
       "2  {'alogp': '5.93', 'aromatic_rings': 4, 'cx_log...   NERATINIB  \n",
       "3  {'alogp': '3.63', 'aromatic_rings': 3, 'cx_log...       R-406  "
      ]
     },
     "execution_count": 3,
     "metadata": {},
     "output_type": "execute_result"
    }
   ],
   "source": [
    "df=pd.DataFrame(molecules)\n",
    "df"
   ]
  },
  {
   "cell_type": "markdown",
   "metadata": {},
   "source": []
  },
  {
   "cell_type": "markdown",
   "metadata": {},
   "source": []
  },
  {
   "cell_type": "code",
   "execution_count": 8,
   "metadata": {},
   "outputs": [
    {
     "name": "stdout",
     "output_type": "stream",
     "text": [
      "   molecule_chembl_id molecule_pref_name parent_molecule_chembl_id  \\\n",
      "0        CHEMBL574738            AST-487              CHEMBL574738   \n",
      "1        CHEMBL522892          DOVITINIB              CHEMBL522892   \n",
      "2        CHEMBL607707          PELITINIB              CHEMBL607707   \n",
      "3        CHEMBL191003        JNJ-7706621              CHEMBL191003   \n",
      "4        CHEMBL608533        MIDOSTAURIN              CHEMBL608533   \n",
      "..                ...                ...                       ...   \n",
      "81      CHEMBL4569508               None             CHEMBL4569508   \n",
      "82      CHEMBL4568087               None             CHEMBL4568087   \n",
      "83       CHEMBL388978      STAUROSPORINE              CHEMBL388978   \n",
      "84       CHEMBL388978      STAUROSPORINE              CHEMBL388978   \n",
      "85      CHEMBL4793380               None             CHEMBL4793380   \n",
      "\n",
      "   target_chembl_id                      target_pref_name   value  \n",
      "0        CHEMBL5552    Serine/threonine-protein kinase 25  1200.0  \n",
      "1        CHEMBL5552    Serine/threonine-protein kinase 25  1200.0  \n",
      "2        CHEMBL5552    Serine/threonine-protein kinase 25  3400.0  \n",
      "3        CHEMBL5552    Serine/threonine-protein kinase 25   360.0  \n",
      "4        CHEMBL5552    Serine/threonine-protein kinase 25  1800.0  \n",
      "..              ...                                   ...     ...  \n",
      "81    CHEMBL1075195  Serine/threonine-protein kinase TAO2  2700.0  \n",
      "82    CHEMBL1075195  Serine/threonine-protein kinase TAO2   420.0  \n",
      "83    CHEMBL1075195  Serine/threonine-protein kinase TAO2    3.54  \n",
      "84       CHEMBL5552    Serine/threonine-protein kinase 25    3.98  \n",
      "85    CHEMBL1075195  Serine/threonine-protein kinase TAO2   0.903  \n",
      "\n",
      "[86 rows x 6 columns]\n"
     ]
    }
   ],
   "source": [
    "print(df)"
   ]
  }
 ],
 "metadata": {
  "interpreter": {
   "hash": "f41f6ab40e82907d0fc76d8a6a687a6bdadd2dd2b8424b65388284a12bf51084"
  },
  "kernelspec": {
   "display_name": "Python 3.9.7 ('chemprop_1119')",
   "language": "python",
   "name": "python3"
  },
  "language_info": {
   "codemirror_mode": {
    "name": "ipython",
    "version": 3
   },
   "file_extension": ".py",
   "mimetype": "text/x-python",
   "name": "python",
   "nbconvert_exporter": "python",
   "pygments_lexer": "ipython3",
   "version": "3.9.7"
  },
  "orig_nbformat": 4
 },
 "nbformat": 4,
 "nbformat_minor": 2
}
