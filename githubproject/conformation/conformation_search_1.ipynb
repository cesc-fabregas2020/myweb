{
 "cells": [
  {
   "cell_type": "code",
   "execution_count": 63,
   "metadata": {},
   "outputs": [],
   "source": [
    "from rdkit import Chem\n",
    "from rdkit.Chem import rdDistGeom\n",
    "from rdkit.Chem import AllChem\n",
    "from rdkit.Chem import rdMolAlign"
   ]
  },
  {
   "cell_type": "code",
   "execution_count": 64,
   "metadata": {},
   "outputs": [],
   "source": [
    "n_mol = 3\n",
    "writefile = 'lxr' + str(n_mol) + '.sdf'\n",
    "#mols = Chem.SDMolSupplier('ICG_001_analog.sdf')\n",
    "mols = Chem.SDMolSupplier('lxr.sdf')\n",
    "ms = [Chem.AddHs(m) for m in mols]"
   ]
  },
  {
   "cell_type": "code",
   "execution_count": 65,
   "metadata": {},
   "outputs": [
    {
     "data": {
      "text/plain": [
       "[(6, '?'), (7, '?'), (8, '?'), (10, '?'), (15, '?')]"
      ]
     },
     "execution_count": 65,
     "metadata": {},
     "output_type": "execute_result"
    }
   ],
   "source": [
    "m = ms[n_mol]\n",
    "Chem.FindMolChiralCenters(m,includeUnassigned=True)"
   ]
  },
  {
   "cell_type": "code",
   "execution_count": 66,
   "metadata": {},
   "outputs": [],
   "source": [
    "from rdkit.Chem.EnumerateStereoisomers import EnumerateStereoisomers, StereoEnumerationOptions\n",
    "isomers = tuple(EnumerateStereoisomers(m))"
   ]
  },
  {
   "cell_type": "code",
   "execution_count": 62,
   "metadata": {},
   "outputs": [
    {
     "name": "stdout",
     "output_type": "stream",
     "text": [
      "[(6, 'R'), (7, 'R'), (8, 'R'), (10, 'R'), (15, 'S')]\n"
     ]
    }
   ],
   "source": [
    "Chem.AssignAtomChiralTagsFromStructure(m) # this is important for 3D structure\n",
    "print(Chem.FindMolChiralCenters(m))"
   ]
  },
  {
   "cell_type": "code",
   "execution_count": 54,
   "metadata": {},
   "outputs": [
    {
     "name": "stdout",
     "output_type": "stream",
     "text": [
      "[(6, 'R'), (7, 'R'), (8, 'R'), (10, 'R'), (15, 'S')]\n"
     ]
    }
   ],
   "source": [
    "ps = AllChem.ETKDGv3()\n",
    "ps.randomSeed=0xf00d\n",
    "ps.pruneRmsThresh = 0.5\n",
    "#m = ms[n_mol]\n",
    "Chem.AssignAtomChiralTagsFromStructure(m) # this is important for 3D structure\n",
    "print(Chem.FindMolChiralCenters(m))\n",
    "cids = AllChem.EmbedMultipleConfs(m,50,ps)"
   ]
  },
  {
   "cell_type": "code",
   "execution_count": 55,
   "metadata": {},
   "outputs": [
    {
     "data": {
      "text/plain": [
       "[(1, 87.17135243848486),\n",
       " (1, 82.08862019438158),\n",
       " (1, 84.31784356001765),\n",
       " (1, 87.17134280309732),\n",
       " (0, 80.17254923336486),\n",
       " (0, 83.38986919261627),\n",
       " (0, 87.10858811021639),\n",
       " (0, 79.47495200002527),\n",
       " (0, 82.08861994285981),\n",
       " (0, 81.53007353744542),\n",
       " (0, 82.04110217015591),\n",
       " (0, 83.84700961527524),\n",
       " (0, 87.10858792796276),\n",
       " (0, 78.21384759395191),\n",
       " (1, 86.58888802522816),\n",
       " (1, 82.0886198824204),\n",
       " (1, 83.56391701406278),\n",
       " (1, 85.25302696364454),\n",
       " (0, 90.20577333730469),\n",
       " (0, 84.7193490678262),\n",
       " (0, 81.0085590051565),\n",
       " (0, 82.72628030191187),\n",
       " (0, 86.08385773165773),\n",
       " (1, 90.10562231292714),\n",
       " (0, 81.62971811076127)]"
      ]
     },
     "execution_count": 55,
     "metadata": {},
     "output_type": "execute_result"
    }
   ],
   "source": [
    "mp = AllChem.MMFFGetMoleculeProperties(m, mmffVariant='MMFF94s')\n",
    "AllChem.MMFFOptimizeMoleculeConfs(m, numThreads=0,mmffVariant='MMFF94s')\n"
   ]
  },
  {
   "cell_type": "code",
   "execution_count": 56,
   "metadata": {},
   "outputs": [],
   "source": [
    "w = Chem.SDWriter(writefile)\n",
    "res = []\n",
    "for cid in cids:\n",
    "        ff = AllChem.MMFFGetMoleculeForceField(m, mp, confId=cid)\n",
    "        e = ff.CalcEnergy()\n",
    "        res.append((cid, e))\n",
    "\n",
    "sorted_res = sorted(res, key=lambda x:x[1])\n",
    "rdMolAlign.AlignMolConformers(m)\n",
    "\n",
    "for cid, e in sorted_res:\n",
    "        m.SetProp('CID', str(cid))\n",
    "        m.SetProp('Energy', str(e))\n",
    "        w.write(m, confId=cid)\n",
    "w.close()"
   ]
  }
 ],
 "metadata": {
  "interpreter": {
   "hash": "1c91a719e5b626f96f77397120bd3fcaafe5000a35b7f325fe47dea2ed86d8e8"
  },
  "kernelspec": {
   "display_name": "Python 3.9.4 64-bit ('my-gentrl-env': conda)",
   "language": "python",
   "name": "python3"
  },
  "language_info": {
   "codemirror_mode": {
    "name": "ipython",
    "version": 3
   },
   "file_extension": ".py",
   "mimetype": "text/x-python",
   "name": "python",
   "nbconvert_exporter": "python",
   "pygments_lexer": "ipython3",
   "version": "3.9.4"
  },
  "orig_nbformat": 4
 },
 "nbformat": 4,
 "nbformat_minor": 2
}
