{
 "cells": [
  {
   "cell_type": "code",
   "execution_count": 1,
   "metadata": {},
   "outputs": [],
   "source": [
    "from rdkit import Chem\n",
    "from rdkit.Chem import rdDistGeom\n",
    "from rdkit.Chem import AllChem\n",
    "from rdkit.Chem import rdMolAlign\n",
    "from rdkit.Chem.EnumerateStereoisomers import EnumerateStereoisomers, StereoEnumerationOptions"
   ]
  },
  {
   "cell_type": "code",
   "execution_count": 2,
   "metadata": {},
   "outputs": [],
   "source": [
    "n_mol = 3\n",
    "writefile = 'lxr' + str(n_mol) + '.sdf'\n",
    "#mols = Chem.SDMolSupplier('ICG_001_analog.sdf')\n",
    "mols = Chem.SDMolSupplier('lxr.sdf')\n",
    "ms = [Chem.AddHs(m) for m in mols]"
   ]
  },
  {
   "cell_type": "code",
   "execution_count": 3,
   "metadata": {},
   "outputs": [],
   "source": [
    "m = ms[n_mol]\n",
    "Chem.FindMolChiralCenters(m,includeUnassigned=True)\n",
    "opts = StereoEnumerationOptions(tryEmbedding=True)\n",
    "isomers = tuple(EnumerateStereoisomers(m,options=opts))"
   ]
  },
  {
   "cell_type": "code",
   "execution_count": 4,
   "metadata": {},
   "outputs": [
    {
     "name": "stdout",
     "output_type": "stream",
     "text": [
      "32\n",
      "[H]c1c([H])c([C@@]([H])(C([H])([H])C([H])([H])[H])[N@+]2([H])C([H])([H])C([H])([H])[C@@]3(C([H])([H])[H])c4c([H])c(C#N)c([H])c([H])c4C([H])([H])[C@@]2([H])[C@@]3([H])C([H])([H])[H])c(Cl)c([H])c1F\n",
      "[H]c1c([H])c([C@@]([H])(C([H])([H])C([H])([H])[H])[N@+]2([H])C([H])([H])C([H])([H])[C@@]3(C([H])([H])[H])c4c([H])c(C#N)c([H])c([H])c4C([H])([H])[C@@]2([H])[C@]3([H])C([H])([H])[H])c(Cl)c([H])c1F\n",
      "[H]c1c([H])c([C@@]([H])(C([H])([H])C([H])([H])[H])[N@+]2([H])C([H])([H])C([H])([H])[C@@]3(C([H])([H])[H])c4c([H])c(C#N)c([H])c([H])c4C([H])([H])[C@]2([H])[C@@]3([H])C([H])([H])[H])c(Cl)c([H])c1F\n",
      "[H]c1c([H])c([C@@]([H])(C([H])([H])C([H])([H])[H])[N@+]2([H])C([H])([H])C([H])([H])[C@@]3(C([H])([H])[H])c4c([H])c(C#N)c([H])c([H])c4C([H])([H])[C@]2([H])[C@]3([H])C([H])([H])[H])c(Cl)c([H])c1F\n",
      "[H]c1c([H])c([C@@]([H])(C([H])([H])C([H])([H])[H])[N@+]2([H])C([H])([H])C([H])([H])[C@]3(C([H])([H])[H])c4c([H])c(C#N)c([H])c([H])c4C([H])([H])[C@@]2([H])[C@@]3([H])C([H])([H])[H])c(Cl)c([H])c1F\n",
      "[H]c1c([H])c([C@@]([H])(C([H])([H])C([H])([H])[H])[N@+]2([H])C([H])([H])C([H])([H])[C@]3(C([H])([H])[H])c4c([H])c(C#N)c([H])c([H])c4C([H])([H])[C@@]2([H])[C@]3([H])C([H])([H])[H])c(Cl)c([H])c1F\n",
      "[H]c1c([H])c([C@@]([H])(C([H])([H])C([H])([H])[H])[N@+]2([H])C([H])([H])C([H])([H])[C@]3(C([H])([H])[H])c4c([H])c(C#N)c([H])c([H])c4C([H])([H])[C@]2([H])[C@@]3([H])C([H])([H])[H])c(Cl)c([H])c1F\n",
      "[H]c1c([H])c([C@@]([H])(C([H])([H])C([H])([H])[H])[N@+]2([H])C([H])([H])C([H])([H])[C@]3(C([H])([H])[H])c4c([H])c(C#N)c([H])c([H])c4C([H])([H])[C@]2([H])[C@]3([H])C([H])([H])[H])c(Cl)c([H])c1F\n",
      "[H]c1c([H])c([C@@]([H])(C([H])([H])C([H])([H])[H])[N@@+]2([H])C([H])([H])C([H])([H])[C@@]3(C([H])([H])[H])c4c([H])c(C#N)c([H])c([H])c4C([H])([H])[C@@]2([H])[C@@]3([H])C([H])([H])[H])c(Cl)c([H])c1F\n",
      "[H]c1c([H])c([C@@]([H])(C([H])([H])C([H])([H])[H])[N@@+]2([H])C([H])([H])C([H])([H])[C@@]3(C([H])([H])[H])c4c([H])c(C#N)c([H])c([H])c4C([H])([H])[C@@]2([H])[C@]3([H])C([H])([H])[H])c(Cl)c([H])c1F\n",
      "[H]c1c([H])c([C@@]([H])(C([H])([H])C([H])([H])[H])[N@@+]2([H])C([H])([H])C([H])([H])[C@@]3(C([H])([H])[H])c4c([H])c(C#N)c([H])c([H])c4C([H])([H])[C@]2([H])[C@@]3([H])C([H])([H])[H])c(Cl)c([H])c1F\n",
      "[H]c1c([H])c([C@@]([H])(C([H])([H])C([H])([H])[H])[N@@+]2([H])C([H])([H])C([H])([H])[C@@]3(C([H])([H])[H])c4c([H])c(C#N)c([H])c([H])c4C([H])([H])[C@]2([H])[C@]3([H])C([H])([H])[H])c(Cl)c([H])c1F\n",
      "[H]c1c([H])c([C@@]([H])(C([H])([H])C([H])([H])[H])[N@@+]2([H])C([H])([H])C([H])([H])[C@]3(C([H])([H])[H])c4c([H])c(C#N)c([H])c([H])c4C([H])([H])[C@@]2([H])[C@@]3([H])C([H])([H])[H])c(Cl)c([H])c1F\n",
      "[H]c1c([H])c([C@@]([H])(C([H])([H])C([H])([H])[H])[N@@+]2([H])C([H])([H])C([H])([H])[C@]3(C([H])([H])[H])c4c([H])c(C#N)c([H])c([H])c4C([H])([H])[C@@]2([H])[C@]3([H])C([H])([H])[H])c(Cl)c([H])c1F\n",
      "[H]c1c([H])c([C@@]([H])(C([H])([H])C([H])([H])[H])[N@@+]2([H])C([H])([H])C([H])([H])[C@]3(C([H])([H])[H])c4c([H])c(C#N)c([H])c([H])c4C([H])([H])[C@]2([H])[C@@]3([H])C([H])([H])[H])c(Cl)c([H])c1F\n",
      "[H]c1c([H])c([C@@]([H])(C([H])([H])C([H])([H])[H])[N@@+]2([H])C([H])([H])C([H])([H])[C@]3(C([H])([H])[H])c4c([H])c(C#N)c([H])c([H])c4C([H])([H])[C@]2([H])[C@]3([H])C([H])([H])[H])c(Cl)c([H])c1F\n",
      "[H]c1c([H])c([C@]([H])(C([H])([H])C([H])([H])[H])[N@+]2([H])C([H])([H])C([H])([H])[C@@]3(C([H])([H])[H])c4c([H])c(C#N)c([H])c([H])c4C([H])([H])[C@@]2([H])[C@@]3([H])C([H])([H])[H])c(Cl)c([H])c1F\n",
      "[H]c1c([H])c([C@]([H])(C([H])([H])C([H])([H])[H])[N@+]2([H])C([H])([H])C([H])([H])[C@@]3(C([H])([H])[H])c4c([H])c(C#N)c([H])c([H])c4C([H])([H])[C@@]2([H])[C@]3([H])C([H])([H])[H])c(Cl)c([H])c1F\n",
      "[H]c1c([H])c([C@]([H])(C([H])([H])C([H])([H])[H])[N@+]2([H])C([H])([H])C([H])([H])[C@@]3(C([H])([H])[H])c4c([H])c(C#N)c([H])c([H])c4C([H])([H])[C@]2([H])[C@@]3([H])C([H])([H])[H])c(Cl)c([H])c1F\n",
      "[H]c1c([H])c([C@]([H])(C([H])([H])C([H])([H])[H])[N@+]2([H])C([H])([H])C([H])([H])[C@@]3(C([H])([H])[H])c4c([H])c(C#N)c([H])c([H])c4C([H])([H])[C@]2([H])[C@]3([H])C([H])([H])[H])c(Cl)c([H])c1F\n",
      "[H]c1c([H])c([C@]([H])(C([H])([H])C([H])([H])[H])[N@+]2([H])C([H])([H])C([H])([H])[C@]3(C([H])([H])[H])c4c([H])c(C#N)c([H])c([H])c4C([H])([H])[C@@]2([H])[C@@]3([H])C([H])([H])[H])c(Cl)c([H])c1F\n",
      "[H]c1c([H])c([C@]([H])(C([H])([H])C([H])([H])[H])[N@+]2([H])C([H])([H])C([H])([H])[C@]3(C([H])([H])[H])c4c([H])c(C#N)c([H])c([H])c4C([H])([H])[C@@]2([H])[C@]3([H])C([H])([H])[H])c(Cl)c([H])c1F\n",
      "[H]c1c([H])c([C@]([H])(C([H])([H])C([H])([H])[H])[N@+]2([H])C([H])([H])C([H])([H])[C@]3(C([H])([H])[H])c4c([H])c(C#N)c([H])c([H])c4C([H])([H])[C@]2([H])[C@@]3([H])C([H])([H])[H])c(Cl)c([H])c1F\n",
      "[H]c1c([H])c([C@]([H])(C([H])([H])C([H])([H])[H])[N@+]2([H])C([H])([H])C([H])([H])[C@]3(C([H])([H])[H])c4c([H])c(C#N)c([H])c([H])c4C([H])([H])[C@]2([H])[C@]3([H])C([H])([H])[H])c(Cl)c([H])c1F\n",
      "[H]c1c([H])c([C@]([H])(C([H])([H])C([H])([H])[H])[N@@+]2([H])C([H])([H])C([H])([H])[C@@]3(C([H])([H])[H])c4c([H])c(C#N)c([H])c([H])c4C([H])([H])[C@@]2([H])[C@@]3([H])C([H])([H])[H])c(Cl)c([H])c1F\n",
      "[H]c1c([H])c([C@]([H])(C([H])([H])C([H])([H])[H])[N@@+]2([H])C([H])([H])C([H])([H])[C@@]3(C([H])([H])[H])c4c([H])c(C#N)c([H])c([H])c4C([H])([H])[C@@]2([H])[C@]3([H])C([H])([H])[H])c(Cl)c([H])c1F\n",
      "[H]c1c([H])c([C@]([H])(C([H])([H])C([H])([H])[H])[N@@+]2([H])C([H])([H])C([H])([H])[C@@]3(C([H])([H])[H])c4c([H])c(C#N)c([H])c([H])c4C([H])([H])[C@]2([H])[C@@]3([H])C([H])([H])[H])c(Cl)c([H])c1F\n",
      "[H]c1c([H])c([C@]([H])(C([H])([H])C([H])([H])[H])[N@@+]2([H])C([H])([H])C([H])([H])[C@@]3(C([H])([H])[H])c4c([H])c(C#N)c([H])c([H])c4C([H])([H])[C@]2([H])[C@]3([H])C([H])([H])[H])c(Cl)c([H])c1F\n",
      "[H]c1c([H])c([C@]([H])(C([H])([H])C([H])([H])[H])[N@@+]2([H])C([H])([H])C([H])([H])[C@]3(C([H])([H])[H])c4c([H])c(C#N)c([H])c([H])c4C([H])([H])[C@@]2([H])[C@@]3([H])C([H])([H])[H])c(Cl)c([H])c1F\n",
      "[H]c1c([H])c([C@]([H])(C([H])([H])C([H])([H])[H])[N@@+]2([H])C([H])([H])C([H])([H])[C@]3(C([H])([H])[H])c4c([H])c(C#N)c([H])c([H])c4C([H])([H])[C@@]2([H])[C@]3([H])C([H])([H])[H])c(Cl)c([H])c1F\n",
      "[H]c1c([H])c([C@]([H])(C([H])([H])C([H])([H])[H])[N@@+]2([H])C([H])([H])C([H])([H])[C@]3(C([H])([H])[H])c4c([H])c(C#N)c([H])c([H])c4C([H])([H])[C@]2([H])[C@@]3([H])C([H])([H])[H])c(Cl)c([H])c1F\n",
      "[H]c1c([H])c([C@]([H])(C([H])([H])C([H])([H])[H])[N@@+]2([H])C([H])([H])C([H])([H])[C@]3(C([H])([H])[H])c4c([H])c(C#N)c([H])c([H])c4C([H])([H])[C@]2([H])[C@]3([H])C([H])([H])[H])c(Cl)c([H])c1F\n"
     ]
    }
   ],
   "source": [
    "print(len(isomers))\n",
    "for smi in sorted(Chem.MolToSmiles(x,isomericSmiles=True) for x in isomers):\n",
    "    print(smi)"
   ]
  },
  {
   "cell_type": "code",
   "execution_count": 6,
   "metadata": {},
   "outputs": [
    {
     "name": "stdout",
     "output_type": "stream",
     "text": [
      "16\n",
      "8\n"
     ]
    }
   ],
   "source": [
    "m = Chem.MolFromSmiles('BrC=CC1OC(C2)(F)C2(Cl)C1')\n",
    "isomers = tuple(EnumerateStereoisomers(m))\n",
    "print(len(isomers))\n",
    "opts = StereoEnumerationOptions(tryEmbedding=True)\n",
    "isomers = tuple(EnumerateStereoisomers(m, options=opts))\n",
    "print(len(isomers))\n"
   ]
  }
 ],
 "metadata": {
  "interpreter": {
   "hash": "1c91a719e5b626f96f77397120bd3fcaafe5000a35b7f325fe47dea2ed86d8e8"
  },
  "kernelspec": {
   "display_name": "Python 3.9.4 64-bit ('my-gentrl-env': conda)",
   "language": "python",
   "name": "python3"
  },
  "language_info": {
   "codemirror_mode": {
    "name": "ipython",
    "version": 3
   },
   "file_extension": ".py",
   "mimetype": "text/x-python",
   "name": "python",
   "nbconvert_exporter": "python",
   "pygments_lexer": "ipython3",
   "version": "3.9.4"
  },
  "orig_nbformat": 4
 },
 "nbformat": 4,
 "nbformat_minor": 2
}
