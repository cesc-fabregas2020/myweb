{
 "cells": [
  {
   "cell_type": "code",
   "execution_count": 1,
   "metadata": {},
   "outputs": [],
   "source": [
    "from rdkit import Chem\n",
    "from rdkit.Chem import rdDistGeom\n",
    "from rdkit.Chem import AllChem\n",
    "from rdkit.Chem import rdMolAlign\n",
    "from rdkit.Chem.EnumerateStereoisomers import EnumerateStereoisomers, StereoEnumerationOptions"
   ]
  },
  {
   "cell_type": "code",
   "execution_count": 2,
   "metadata": {},
   "outputs": [],
   "source": [
    "n_mol = 3\n",
    "writefile = 'lxr' + str(n_mol) + '.sdf'\n",
    "#mols = Chem.SDMolSupplier('ICG_001_analog.sdf')\n",
    "mols = Chem.SDMolSupplier('lxr.sdf')\n",
    "ms = [Chem.AddHs(m) for m in mols]\n",
    "m = ms[n_mol]\n",
    "opts = StereoEnumerationOptions(tryEmbedding=True)\n",
    "isomers = tuple(EnumerateStereoisomers(m,options=opts))"
   ]
  },
  {
   "cell_type": "code",
   "execution_count": 16,
   "metadata": {},
   "outputs": [
    {
     "name": "stdout",
     "output_type": "stream",
     "text": [
      "[(6, 'S'), (7, 'R'), (8, 'R'), (10, 'S'), (15, 'S')]\n"
     ]
    }
   ],
   "source": [
    "    nnn = 5\n",
    "    onemol = isomers[nnn-1]\n",
    "\n",
    "    ps = AllChem.ETKDGv3()\n",
    "    ps.randomSeed=0xf00d\n",
    "    ps.pruneRmsThresh = 0.5\n",
    "    #Chem.AssignAtomChiralTagsFromStructure(x)\n",
    "    print(Chem.FindMolChiralCenters(onemol))\n",
    "    cids = AllChem.EmbedMultipleConfs(onemol,50,ps)\n",
    "\n",
    "    mp = AllChem.MMFFGetMoleculeProperties(onemol, mmffVariant='MMFF94s')\n",
    "    AllChem.MMFFOptimizeMoleculeConfs(onemol, numThreads=0,mmffVariant='MMFF94s')\n",
    "\n",
    "    #nnn = nnn + 1\n",
    "    writefile = 'rdkit_lxr' + str(nnn) + '.sdf'\n",
    "    w = Chem.SDWriter(writefile)\n",
    "\n",
    "    res = []\n",
    "    for cid in cids:\n",
    "        ff = AllChem.MMFFGetMoleculeForceField(onemol, mp, confId=cid)\n",
    "        e = ff.CalcEnergy()\n",
    "        res.append((cid, e))\n",
    "\n",
    "    sorted_res = sorted(res, key=lambda x:x[1])\n",
    "    rdMolAlign.AlignMolConformers(onemol)\n",
    "\n",
    "    for cid, e in sorted_res:\n",
    "        onemol.SetProp('CID', str(cid))\n",
    "        onemol.SetProp('Energy', str(e))\n",
    "        w.write(onemol, confId=cid)\n",
    "\n",
    "    w.close()"
   ]
  },
  {
   "cell_type": "code",
   "execution_count": 3,
   "metadata": {},
   "outputs": [
    {
     "name": "stdout",
     "output_type": "stream",
     "text": [
      "[(6, 'S'), (7, 'R'), (8, 'S'), (10, 'S'), (15, 'S')]\n",
      "[(6, 'R'), (7, 'R'), (8, 'S'), (10, 'S'), (15, 'S')]\n",
      "[(6, 'S'), (7, 'S'), (8, 'S'), (10, 'S'), (15, 'S')]\n",
      "[(6, 'R'), (7, 'S'), (8, 'S'), (10, 'S'), (15, 'S')]\n",
      "[(6, 'R'), (7, 'R'), (8, 'R'), (10, 'S'), (15, 'S')]\n",
      "[(6, 'S'), (7, 'S'), (8, 'R'), (10, 'S'), (15, 'S')]\n",
      "[(6, 'R'), (7, 'S'), (8, 'R'), (10, 'S'), (15, 'S')]\n",
      "[(6, 'S'), (7, 'R'), (8, 'S'), (10, 'R'), (15, 'S')]\n",
      "[(6, 'R'), (7, 'R'), (8, 'S'), (10, 'R'), (15, 'S')]\n",
      "[(6, 'S'), (7, 'S'), (8, 'S'), (10, 'R'), (15, 'S')]\n",
      "[(6, 'R'), (7, 'S'), (8, 'S'), (10, 'R'), (15, 'S')]\n"
     ]
    }
   ],
   "source": [
    "nnn = 0\n",
    "for onemol in isomers:\n",
    "\n",
    "    nnn = nnn + 1\n",
    "    if nnn == 5: \n",
    "        continue\n",
    "    ps = AllChem.ETKDGv3()\n",
    "    ps.randomSeed=0xf00d\n",
    "    ps.pruneRmsThresh = 0.5\n",
    "    #Chem.AssignAtomChiralTagsFromStructure(x)\n",
    "    print(Chem.FindMolChiralCenters(onemol))\n",
    "    cids = AllChem.EmbedMultipleConfs(onemol,50,ps)\n",
    "\n",
    "    mp = AllChem.MMFFGetMoleculeProperties(onemol, mmffVariant='MMFF94s')\n",
    "    AllChem.MMFFOptimizeMoleculeConfs(onemol, numThreads=0,mmffVariant='MMFF94s')\n",
    "\n",
    "    #nnn = nnn + 1\n",
    "    writefile = 'rdkit_lxr' + str(nnn) + '.sdf'\n",
    "    w = Chem.SDWriter(writefile)\n",
    "\n",
    "    res = []\n",
    "    for cid in cids:\n",
    "        ff = AllChem.MMFFGetMoleculeForceField(onemol, mp, confId=cid)\n",
    "        e = ff.CalcEnergy()\n",
    "        res.append((cid, e))\n",
    "\n",
    "    sorted_res = sorted(res, key=lambda x:x[1])\n",
    "    rdMolAlign.AlignMolConformers(onemol)\n",
    "\n",
    "    for cid, e in sorted_res:\n",
    "        onemol.SetProp('CID', str(cid))\n",
    "        onemol.SetProp('Energy', str(e))\n",
    "        w.write(onemol, confId=cid)\n",
    "\n",
    "    w.close()"
   ]
  },
  {
   "cell_type": "code",
   "execution_count": 23,
   "metadata": {},
   "outputs": [],
   "source": [
    "w = Chem.SDWriter('rdkit_all.sdf')\n",
    "for i in range(1,33):\n",
    "    filename = 'rdkit_lxr' + str(i) + '.sdf'\n",
    "    mols = Chem.SDMolSupplier(filename,removeHs=False)\n",
    "    #m=Chem.AddHs(mols[0])\n",
    "    #Chem.AssignAtomChiralTagsFromStructure(m)\n",
    "    w.write(mols[0])\n",
    "w.close()"
   ]
  },
  {
   "cell_type": "code",
   "execution_count": 6,
   "metadata": {},
   "outputs": [
    {
     "name": "stdout",
     "output_type": "stream",
     "text": [
      "[H]c1c([H])c([C@]([H])(C([H])([H])C([H])([H])[H])[N@@+]2([H])C([H])([H])C([H])([H])[C@]3(C([H])([H])[H])c4c([H])c(C#N)c([H])c([H])c4C([H])([H])[C@@]2([H])[C@@]3([H])C([H])([H])[H])c(Cl)c([H])c1F\n"
     ]
    }
   ],
   "source": [
    "print(Chem.MolToSmiles(isomers[2],isomericSmiles=True))"
   ]
  }
 ],
 "metadata": {
  "interpreter": {
   "hash": "1c91a719e5b626f96f77397120bd3fcaafe5000a35b7f325fe47dea2ed86d8e8"
  },
  "kernelspec": {
   "display_name": "Python 3.9.4 64-bit ('my-gentrl-env': conda)",
   "language": "python",
   "name": "python3"
  },
  "language_info": {
   "codemirror_mode": {
    "name": "ipython",
    "version": 3
   },
   "file_extension": ".py",
   "mimetype": "text/x-python",
   "name": "python",
   "nbconvert_exporter": "python",
   "pygments_lexer": "ipython3",
   "version": "3.9.4"
  },
  "orig_nbformat": 4
 },
 "nbformat": 4,
 "nbformat_minor": 2
}
